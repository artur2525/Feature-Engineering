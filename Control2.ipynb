{
 "cells": [
  {
   "cell_type": "code",
   "execution_count": null,
   "metadata": {
    "id": "6v2N2ph_MQbL"
   },
   "outputs": [],
   "source": [
    "1. Загрузка данных\n",
    "  a) загрузка картинок, используя tf.keras.utils.image_dataset_from_directory (https://www.tensorflow.org/tutorials/images/classification?hl=ru)\n",
    "2. изучение данных\n",
    "3. Фича-инжиниринг\n",
    "4. Выбор модели\n",
    "5. Предикт "
   ]
  },
  {
   "cell_type": "code",
   "execution_count": null,
   "metadata": {
    "id": "7jNAoxWteVIb"
   },
   "outputs": [],
   "source": [
    "%matplotlib inline"
   ]
  },
  {
   "cell_type": "code",
   "execution_count": null,
   "metadata": {
    "colab": {
     "base_uri": "https://localhost:8080/"
    },
    "executionInfo": {
     "elapsed": 3831,
     "status": "ok",
     "timestamp": 1639400774020,
     "user": {
      "displayName": "Артур Смирнов",
      "photoUrl": "https://lh3.googleusercontent.com/a-/AOh14Gg2gxK9MeayOvsZ1DA0s0-YrCW0niN5rvWapE1QNw=s64",
      "userId": "11940610574837256558"
     },
     "user_tz": -180
    },
    "id": "BiJJXUHVMgK2",
    "outputId": "1241dc09-a9e5-462e-c511-4f57e8116532"
   },
   "outputs": [
    {
     "name": "stdout",
     "output_type": "stream",
     "text": [
      "Drive already mounted at /content/drive; to attempt to forcibly remount, call drive.mount(\"/content/drive\", force_remount=True).\n"
     ]
    }
   ],
   "source": [
    "import numpy as np\n",
    "import pandas as pd\n",
    "import cv2\n",
    "import os \n",
    "import PIL\n",
    "\n",
    "\n",
    "from google.colab import files, drive\n",
    "\n",
    "\n",
    "import zipfile\n",
    "         \n",
    "\n",
    "\n"
   ]
  },
  {
   "cell_type": "code",
   "execution_count": null,
   "metadata": {
    "colab": {
     "base_uri": "https://localhost:8080/",
     "height": 70,
     "resources": {
      "http://localhost:8080/nbextensions/google.colab/files.js": {
       "data": "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",
       "headers": [
        [
         "content-type",
         "application/javascript"
        ]
       ],
       "ok": true,
       "status": 200,
       "status_text": ""
      }
     }
    },
    "executionInfo": {
     "elapsed": 318751,
     "status": "ok",
     "timestamp": 1637932812456,
     "user": {
      "displayName": "Артур Смирнов",
      "photoUrl": "https://lh3.googleusercontent.com/a-/AOh14Gg2gxK9MeayOvsZ1DA0s0-YrCW0niN5rvWapE1QNw=s64",
      "userId": "11940610574837256558"
     },
     "user_tz": -180
    },
    "id": "cp116eSrYmQT",
    "outputId": "95c3910b-fa53-4d6e-b224-3a5cd2157b80"
   },
   "outputs": [
    {
     "data": {
      "text/html": [
       "\n",
       "     <input type=\"file\" id=\"files-59f6244a-b734-425b-9717-1570dc6fa6ad\" name=\"files[]\" multiple disabled\n",
       "        style=\"border:none\" />\n",
       "     <output id=\"result-59f6244a-b734-425b-9717-1570dc6fa6ad\">\n",
       "      Upload widget is only available when the cell has been executed in the\n",
       "      current browser session. Please rerun this cell to enable.\n",
       "      </output>\n",
       "      <script src=\"/nbextensions/google.colab/files.js\"></script> "
      ],
      "text/plain": [
       "<IPython.core.display.HTML object>"
      ]
     },
     "metadata": {},
     "output_type": "display_data"
    },
    {
     "name": "stdout",
     "output_type": "stream",
     "text": [
      "Saving test.zip to test.zip\n"
     ]
    }
   ],
   "source": [
    "upload = files.upload() # download from self hard disk"
   ]
  },
  {
   "cell_type": "code",
   "execution_count": null,
   "metadata": {
    "id": "7xPtNHSJoZB5"
   },
   "outputs": [],
   "source": [
    "#repack into gdrive\n",
    "def repack(path):\n",
    "  fantasy_zip = zipfile.ZipFile(path)\n",
    "  fantasy_zip.extractall('/content/drive/MyDrive/')\n",
    "  fantasy_zip.close()\n",
    "  "
   ]
  },
  {
   "cell_type": "code",
   "execution_count": null,
   "metadata": {
    "id": "e8AbUblWboVI"
   },
   "outputs": [],
   "source": [
    "from keras_preprocessing.image import img_to_array, load_img\n",
    "import matplotlib.pyplot as plt \n",
    "import tensorflow as tf\n",
    "from tensorflow import keras\n",
    "from tensorflow.keras import layers\n",
    "from tensorflow.keras.models import Sequential\n",
    "from tqdm.notebook import tqdm_notebook"
   ]
  },
  {
   "cell_type": "code",
   "execution_count": null,
   "metadata": {
    "colab": {
     "base_uri": "https://localhost:8080/"
    },
    "executionInfo": {
     "elapsed": 297,
     "status": "ok",
     "timestamp": 1639389053672,
     "user": {
      "displayName": "Артур Смирнов",
      "photoUrl": "https://lh3.googleusercontent.com/a-/AOh14Gg2gxK9MeayOvsZ1DA0s0-YrCW0niN5rvWapE1QNw=s64",
      "userId": "11940610574837256558"
     },
     "user_tz": -180
    },
    "id": "wYfI9MX8S3D5",
    "outputId": "a29b66d2-8244-48ad-cf56-22d6641e1160"
   },
   "outputs": [
    {
     "data": {
      "text/plain": [
       "2"
      ]
     },
     "execution_count": 24,
     "metadata": {},
     "output_type": "execute_result"
    }
   ],
   "source": [
    "import multiprocessing\n",
    "multiprocessing.cpu_count()"
   ]
  },
  {
   "cell_type": "markdown",
   "metadata": {
    "id": "TFj1bQ5uGc98"
   },
   "source": [
    "# **Способ использую Feature Engeneering**\n",
    "\n",
    "\n"
   ]
  },
  {
   "cell_type": "code",
   "execution_count": null,
   "metadata": {
    "id": "B-pcas3vhpGh"
   },
   "outputs": [],
   "source": [
    "import glob\n",
    "\n",
    "indoor = [filename for filename in glob.glob('indoor/*.jpg')]\n",
    "outdoor = [filename for filename in glob.glob('outdoor/*.jpg')]"
   ]
  },
  {
   "cell_type": "code",
   "execution_count": null,
   "metadata": {
    "colab": {
     "base_uri": "https://localhost:8080/",
     "height": 49,
     "referenced_widgets": [
      "b0bdf4b9df6b40e0a2d50dbbcb9a197e",
      "c355c47d85044bed8158ccfe063e9193",
      "dbffdbfceaac4012bc99dbb7496e2c2a",
      "29920d4952094a18aca39c6e0e110d98",
      "e644ebcde730463ab2a4f407fc137d00",
      "6813912fc20f4773acbbf0be71868c27",
      "450b968f3833456e9d390be51cc12b37",
      "4298b6b6f290454c9a9ca146a64ec99d",
      "0fb6ae6087d446ddbddb3447b5633fb1",
      "d0fd73dd684a49df8bcc2e4ee789129b",
      "64c9f8b7e7cd4069a0aa136c6c6c8b7e"
     ]
    },
    "executionInfo": {
     "elapsed": 125331,
     "status": "ok",
     "timestamp": 1639403925647,
     "user": {
      "displayName": "Артур Смирнов",
      "photoUrl": "https://lh3.googleusercontent.com/a-/AOh14Gg2gxK9MeayOvsZ1DA0s0-YrCW0niN5rvWapE1QNw=s64",
      "userId": "11940610574837256558"
     },
     "user_tz": -180
    },
    "id": "NplpjGKH_vKk",
    "outputId": "f9fb0256-2512-40cc-85ae-2dcad0cfce28"
   },
   "outputs": [
    {
     "data": {
      "application/vnd.jupyter.widget-view+json": {
       "model_id": "b0bdf4b9df6b40e0a2d50dbbcb9a197e",
       "version_major": 2,
       "version_minor": 0
      },
      "text/plain": [
       "  0%|          | 0/55322 [00:00<?, ?it/s]"
      ]
     },
     "metadata": {},
     "output_type": "display_data"
    }
   ],
   "source": [
    "from PIL import ImageFilter\n",
    "x = np.concatenate(([indoor, outdoor]))\n",
    "for i in tqdm_notebook(range(len(x))): \n",
    "  d = PIL.Image.open(x[i])\n",
    "  d = d.filter(ImageFilter.FIND_EDGES)\n",
    "  x_train = np.asarray(d).astype(np.float64)"
   ]
  },
  {
   "cell_type": "code",
   "execution_count": null,
   "metadata": {
    "id": "7Gnt-9sx5x7c"
   },
   "outputs": [],
   "source": [
    "np.save('/content/drive/MyDrive/x_train_late', x_train)"
   ]
  },
  {
   "cell_type": "code",
   "execution_count": null,
   "metadata": {
    "id": "6rgFI28dJwVn"
   },
   "outputs": [],
   "source": [
    "y = np.concatenate([np.ones(len(indoor)), np.zeros(len(outdoor))])"
   ]
  },
  {
   "cell_type": "code",
   "execution_count": null,
   "metadata": {
    "colab": {
     "base_uri": "https://localhost:8080/"
    },
    "executionInfo": {
     "elapsed": 258,
     "status": "ok",
     "timestamp": 1639404623479,
     "user": {
      "displayName": "Артур Смирнов",
      "photoUrl": "https://lh3.googleusercontent.com/a-/AOh14Gg2gxK9MeayOvsZ1DA0s0-YrCW0niN5rvWapE1QNw=s64",
      "userId": "11940610574837256558"
     },
     "user_tz": -180
    },
    "id": "_KEyzStoOwGa",
    "outputId": "ed0b2e1e-f5ef-49cd-b0d4-177ce327d658"
   },
   "outputs": [
    {
     "data": {
      "text/plain": [
       "array([[[1.51977746e-05, 1.51374660e-05, 1.53787005e-05],\n",
       "        [1.51977746e-05, 1.51374660e-05, 1.53787005e-05],\n",
       "        [1.51977746e-05, 1.51374660e-05, 1.53787005e-05],\n",
       "        ...,\n",
       "        [1.51977746e-05, 1.51374660e-05, 1.53787005e-05],\n",
       "        [1.51977746e-05, 1.51374660e-05, 1.53787005e-05],\n",
       "        [1.51977746e-05, 1.51374660e-05, 1.53787005e-05]],\n",
       "\n",
       "       [[1.51977746e-05, 1.51374660e-05, 1.53787005e-05],\n",
       "        [0.00000000e+00, 0.00000000e+00, 0.00000000e+00],\n",
       "        [0.00000000e+00, 0.00000000e+00, 0.00000000e+00],\n",
       "        ...,\n",
       "        [0.00000000e+00, 0.00000000e+00, 0.00000000e+00],\n",
       "        [0.00000000e+00, 0.00000000e+00, 0.00000000e+00],\n",
       "        [1.51977746e-05, 1.51374660e-05, 1.53787005e-05]],\n",
       "\n",
       "       [[1.51977746e-05, 1.51374660e-05, 1.53787005e-05],\n",
       "        [0.00000000e+00, 0.00000000e+00, 0.00000000e+00],\n",
       "        [0.00000000e+00, 0.00000000e+00, 0.00000000e+00],\n",
       "        ...,\n",
       "        [0.00000000e+00, 0.00000000e+00, 0.00000000e+00],\n",
       "        [0.00000000e+00, 0.00000000e+00, 0.00000000e+00],\n",
       "        [1.51977746e-05, 1.51374660e-05, 1.53787005e-05]],\n",
       "\n",
       "       ...,\n",
       "\n",
       "       [[4.10098680e-06, 4.28191269e-06, 3.25666599e-06],\n",
       "        [3.61851776e-07, 3.61851776e-07, 3.61851776e-07],\n",
       "        [3.61851776e-07, 3.61851776e-07, 3.61851776e-07],\n",
       "        ...,\n",
       "        [0.00000000e+00, 0.00000000e+00, 0.00000000e+00],\n",
       "        [1.80925888e-07, 1.80925888e-07, 1.80925888e-07],\n",
       "        [3.67882639e-06, 3.92006091e-06, 2.29172792e-06]],\n",
       "\n",
       "       [[3.98036954e-06, 4.16129543e-06, 3.13604873e-06],\n",
       "        [0.00000000e+00, 0.00000000e+00, 0.00000000e+00],\n",
       "        [0.00000000e+00, 0.00000000e+00, 0.00000000e+00],\n",
       "        ...,\n",
       "        [6.03086294e-08, 6.03086294e-08, 6.03086294e-08],\n",
       "        [0.00000000e+00, 0.00000000e+00, 0.00000000e+00],\n",
       "        [3.61851776e-06, 3.85975228e-06, 2.23141929e-06]],\n",
       "\n",
       "       [[3.92006091e-06, 4.10098680e-06, 3.07574010e-06],\n",
       "        [3.92006091e-06, 4.10098680e-06, 3.07574010e-06],\n",
       "        [3.92006091e-06, 4.10098680e-06, 3.07574010e-06],\n",
       "        ...,\n",
       "        [3.31697462e-06, 3.55820914e-06, 1.92987614e-06],\n",
       "        [3.43759188e-06, 3.67882639e-06, 2.05049340e-06],\n",
       "        [3.43759188e-06, 3.67882639e-06, 2.05049340e-06]]])"
      ]
     },
     "execution_count": 62,
     "metadata": {},
     "output_type": "execute_result"
    }
   ],
   "source": [
    "x_train = x_train/255\n",
    "x_train"
   ]
  },
  {
   "cell_type": "code",
   "execution_count": null,
   "metadata": {
    "id": "McXPlBQsP0LM"
   },
   "outputs": [],
   "source": [
    "plt.imshow(x_train[:,:,2])"
   ]
  },
  {
   "cell_type": "code",
   "execution_count": null,
   "metadata": {
    "colab": {
     "base_uri": "https://localhost:8080/"
    },
    "executionInfo": {
     "elapsed": 247,
     "status": "ok",
     "timestamp": 1639405539130,
     "user": {
      "displayName": "Артур Смирнов",
      "photoUrl": "https://lh3.googleusercontent.com/a-/AOh14Gg2gxK9MeayOvsZ1DA0s0-YrCW0niN5rvWapE1QNw=s64",
      "userId": "11940610574837256558"
     },
     "user_tz": -180
    },
    "id": "k-LP3-kiLzn9",
    "outputId": "7abfa118-dd6e-4616-c33a-1587194b358f"
   },
   "outputs": [
    {
     "data": {
      "text/plain": [
       "(100, 56, 3)"
      ]
     },
     "execution_count": 90,
     "metadata": {},
     "output_type": "execute_result"
    }
   ],
   "source": [
    "x_train.shape"
   ]
  },
  {
   "cell_type": "code",
   "execution_count": null,
   "metadata": {
    "id": "M-OSYcZvIlWM"
   },
   "outputs": [],
   "source": [
    "num_classes = 2\n",
    "model = Sequential ([\n",
    "  layers.Rescaling(1/255, input_shape=(img_height, img_width, 3)),\n",
    "  layers.Dense(128, activation= 'relu'),\n",
    "  layers.Dense(num_classes)\n",
    "])"
   ]
  },
  {
   "cell_type": "code",
   "execution_count": null,
   "metadata": {
    "id": "WXh_j8KeIasT"
   },
   "outputs": [],
   "source": []
  },
  {
   "cell_type": "code",
   "execution_count": null,
   "metadata": {
    "colab": {
     "base_uri": "https://localhost:8080/",
     "height": 362
    },
    "executionInfo": {
     "elapsed": 279,
     "status": "error",
     "timestamp": 1639404102484,
     "user": {
      "displayName": "Артур Смирнов",
      "photoUrl": "https://lh3.googleusercontent.com/a-/AOh14Gg2gxK9MeayOvsZ1DA0s0-YrCW0niN5rvWapE1QNw=s64",
      "userId": "11940610574837256558"
     },
     "user_tz": -180
    },
    "id": "rxgQsWDol1NA",
    "outputId": "9f7d2eda-fd6a-4a24-88d4-3a0ecb102c1f"
   },
   "outputs": [
    {
     "ename": "ValueError",
     "evalue": "ignored",
     "output_type": "error",
     "traceback": [
      "\u001b[0;31m---------------------------------------------------------------------------\u001b[0m",
      "\u001b[0;31mValueError\u001b[0m                                Traceback (most recent call last)",
      "\u001b[0;32m<ipython-input-59-d7abf2a88af7>\u001b[0m in \u001b[0;36m<module>\u001b[0;34m()\u001b[0m\n\u001b[1;32m     10\u001b[0m     \u001b[0mseed\u001b[0m \u001b[0;34m=\u001b[0m \u001b[0;36m123\u001b[0m\u001b[0;34m,\u001b[0m\u001b[0;34m\u001b[0m\u001b[0;34m\u001b[0m\u001b[0m\n\u001b[1;32m     11\u001b[0m     \u001b[0mimage_size\u001b[0m \u001b[0;34m=\u001b[0m \u001b[0;34m(\u001b[0m\u001b[0mimg_height\u001b[0m\u001b[0;34m,\u001b[0m \u001b[0mimg_width\u001b[0m\u001b[0;34m)\u001b[0m\u001b[0;34m,\u001b[0m\u001b[0;34m\u001b[0m\u001b[0;34m\u001b[0m\u001b[0m\n\u001b[0;32m---> 12\u001b[0;31m     \u001b[0mbatch_size\u001b[0m \u001b[0;34m=\u001b[0m \u001b[0mbatch_size\u001b[0m\u001b[0;34m\u001b[0m\u001b[0;34m\u001b[0m\u001b[0m\n\u001b[0m\u001b[1;32m     13\u001b[0m )\n",
      "\u001b[0;32m/usr/local/lib/python3.7/dist-packages/keras/preprocessing/image_dataset.py\u001b[0m in \u001b[0;36mimage_dataset_from_directory\u001b[0;34m(directory, labels, label_mode, class_names, color_mode, batch_size, image_size, shuffle, seed, validation_split, subset, interpolation, follow_links, crop_to_aspect_ratio, **kwargs)\u001b[0m\n\u001b[1;32m    195\u001b[0m       \u001b[0mshuffle\u001b[0m\u001b[0;34m=\u001b[0m\u001b[0mshuffle\u001b[0m\u001b[0;34m,\u001b[0m\u001b[0;34m\u001b[0m\u001b[0;34m\u001b[0m\u001b[0m\n\u001b[1;32m    196\u001b[0m       \u001b[0mseed\u001b[0m\u001b[0;34m=\u001b[0m\u001b[0mseed\u001b[0m\u001b[0;34m,\u001b[0m\u001b[0;34m\u001b[0m\u001b[0;34m\u001b[0m\u001b[0m\n\u001b[0;32m--> 197\u001b[0;31m       follow_links=follow_links)\n\u001b[0m\u001b[1;32m    198\u001b[0m \u001b[0;34m\u001b[0m\u001b[0m\n\u001b[1;32m    199\u001b[0m   \u001b[0;32mif\u001b[0m \u001b[0mlabel_mode\u001b[0m \u001b[0;34m==\u001b[0m \u001b[0;34m'binary'\u001b[0m \u001b[0;32mand\u001b[0m \u001b[0mlen\u001b[0m\u001b[0;34m(\u001b[0m\u001b[0mclass_names\u001b[0m\u001b[0;34m)\u001b[0m \u001b[0;34m!=\u001b[0m \u001b[0;36m2\u001b[0m\u001b[0;34m:\u001b[0m\u001b[0;34m\u001b[0m\u001b[0;34m\u001b[0m\u001b[0m\n",
      "\u001b[0;32m/usr/local/lib/python3.7/dist-packages/keras/preprocessing/dataset_utils.py\u001b[0m in \u001b[0;36mindex_directory\u001b[0;34m(directory, labels, formats, class_names, shuffle, seed, follow_links)\u001b[0m\n\u001b[1;32m     64\u001b[0m   \u001b[0;32melse\u001b[0m\u001b[0;34m:\u001b[0m\u001b[0;34m\u001b[0m\u001b[0;34m\u001b[0m\u001b[0m\n\u001b[1;32m     65\u001b[0m     \u001b[0msubdirs\u001b[0m \u001b[0;34m=\u001b[0m \u001b[0;34m[\u001b[0m\u001b[0;34m]\u001b[0m\u001b[0;34m\u001b[0m\u001b[0;34m\u001b[0m\u001b[0m\n\u001b[0;32m---> 66\u001b[0;31m     \u001b[0;32mfor\u001b[0m \u001b[0msubdir\u001b[0m \u001b[0;32min\u001b[0m \u001b[0msorted\u001b[0m\u001b[0;34m(\u001b[0m\u001b[0mos\u001b[0m\u001b[0;34m.\u001b[0m\u001b[0mlistdir\u001b[0m\u001b[0;34m(\u001b[0m\u001b[0mdirectory\u001b[0m\u001b[0;34m)\u001b[0m\u001b[0;34m)\u001b[0m\u001b[0;34m:\u001b[0m\u001b[0;34m\u001b[0m\u001b[0;34m\u001b[0m\u001b[0m\n\u001b[0m\u001b[1;32m     67\u001b[0m       \u001b[0;32mif\u001b[0m \u001b[0mos\u001b[0m\u001b[0;34m.\u001b[0m\u001b[0mpath\u001b[0m\u001b[0;34m.\u001b[0m\u001b[0misdir\u001b[0m\u001b[0;34m(\u001b[0m\u001b[0mos\u001b[0m\u001b[0;34m.\u001b[0m\u001b[0mpath\u001b[0m\u001b[0;34m.\u001b[0m\u001b[0mjoin\u001b[0m\u001b[0;34m(\u001b[0m\u001b[0mdirectory\u001b[0m\u001b[0;34m,\u001b[0m \u001b[0msubdir\u001b[0m\u001b[0;34m)\u001b[0m\u001b[0;34m)\u001b[0m\u001b[0;34m:\u001b[0m\u001b[0;34m\u001b[0m\u001b[0;34m\u001b[0m\u001b[0m\n\u001b[1;32m     68\u001b[0m         \u001b[0msubdirs\u001b[0m\u001b[0;34m.\u001b[0m\u001b[0mappend\u001b[0m\u001b[0;34m(\u001b[0m\u001b[0msubdir\u001b[0m\u001b[0;34m)\u001b[0m\u001b[0;34m\u001b[0m\u001b[0;34m\u001b[0m\u001b[0m\n",
      "\u001b[0;31mValueError\u001b[0m: listdir: embedded null character in path"
     ]
    }
   ],
   "source": [
    "batch_size = 48\n",
    "img_height = 25\n",
    "img_width = 25\n",
    "train_dir = x_train\n",
    "\n",
    "train_ds = tf.keras.utils.image_dataset_from_directory(\n",
    "    train_dir,\n",
    "    validation_split = 0.2,\n",
    "    subset = 'training',\n",
    "    seed = 123,\n",
    "    image_size = (img_height, img_width),\n",
    "    batch_size = batch_size\n",
    ")"
   ]
  },
  {
   "cell_type": "code",
   "execution_count": null,
   "metadata": {
    "colab": {
     "base_uri": "https://localhost:8080/",
     "height": 310
    },
    "executionInfo": {
     "elapsed": 421,
     "status": "error",
     "timestamp": 1639256752064,
     "user": {
      "displayName": "Артур Смирнов",
      "photoUrl": "https://lh3.googleusercontent.com/a-/AOh14Gg2gxK9MeayOvsZ1DA0s0-YrCW0niN5rvWapE1QNw=s64",
      "userId": "11940610574837256558"
     },
     "user_tz": -180
    },
    "id": "SDVxG9ttBENy",
    "outputId": "8409f7f3-ea54-4c98-f0f8-c2b659409383"
   },
   "outputs": [
    {
     "ename": "KeyboardInterrupt",
     "evalue": "ignored",
     "output_type": "error",
     "traceback": [
      "\u001b[0;31m---------------------------------------------------------------------------\u001b[0m",
      "\u001b[0;31mKeyboardInterrupt\u001b[0m                         Traceback (most recent call last)",
      "\u001b[0;32m<ipython-input-41-9cf3aca27a4c>\u001b[0m in \u001b[0;36m<module>\u001b[0;34m()\u001b[0m\n\u001b[0;32m----> 1\u001b[0;31m \u001b[0mtqdm_notebook\u001b[0m\u001b[0;34m(\u001b[0m\u001b[0mlist\u001b[0m\u001b[0;34m(\u001b[0m\u001b[0mtrain_ds\u001b[0m\u001b[0;34m.\u001b[0m\u001b[0mas_numpy_iterator\u001b[0m\u001b[0;34m(\u001b[0m\u001b[0;34m)\u001b[0m\u001b[0;34m)\u001b[0m\u001b[0;34m)\u001b[0m\u001b[0;34m\u001b[0m\u001b[0;34m\u001b[0m\u001b[0m\n\u001b[0m",
      "\u001b[0;32m/usr/local/lib/python3.7/dist-packages/tensorflow/python/data/ops/dataset_ops.py\u001b[0m in \u001b[0;36m__next__\u001b[0;34m(self)\u001b[0m\n\u001b[1;32m   4598\u001b[0m       \u001b[0;32mreturn\u001b[0m \u001b[0mnumpy\u001b[0m\u001b[0;34m\u001b[0m\u001b[0;34m\u001b[0m\u001b[0m\n\u001b[1;32m   4599\u001b[0m \u001b[0;34m\u001b[0m\u001b[0m\n\u001b[0;32m-> 4600\u001b[0;31m     \u001b[0;32mreturn\u001b[0m \u001b[0mnest\u001b[0m\u001b[0;34m.\u001b[0m\u001b[0mmap_structure\u001b[0m\u001b[0;34m(\u001b[0m\u001b[0mto_numpy\u001b[0m\u001b[0;34m,\u001b[0m \u001b[0mnext\u001b[0m\u001b[0;34m(\u001b[0m\u001b[0mself\u001b[0m\u001b[0;34m.\u001b[0m\u001b[0m_iterator\u001b[0m\u001b[0;34m)\u001b[0m\u001b[0;34m)\u001b[0m\u001b[0;34m\u001b[0m\u001b[0;34m\u001b[0m\u001b[0m\n\u001b[0m\u001b[1;32m   4601\u001b[0m \u001b[0;34m\u001b[0m\u001b[0m\n\u001b[1;32m   4602\u001b[0m   \u001b[0;32mdef\u001b[0m \u001b[0mnext\u001b[0m\u001b[0;34m(\u001b[0m\u001b[0mself\u001b[0m\u001b[0;34m)\u001b[0m\u001b[0;34m:\u001b[0m\u001b[0;34m\u001b[0m\u001b[0;34m\u001b[0m\u001b[0m\n",
      "\u001b[0;32m/usr/local/lib/python3.7/dist-packages/tensorflow/python/data/ops/iterator_ops.py\u001b[0m in \u001b[0;36m__next__\u001b[0;34m(self)\u001b[0m\n\u001b[1;32m    798\u001b[0m   \u001b[0;32mdef\u001b[0m \u001b[0m__next__\u001b[0m\u001b[0;34m(\u001b[0m\u001b[0mself\u001b[0m\u001b[0;34m)\u001b[0m\u001b[0;34m:\u001b[0m\u001b[0;34m\u001b[0m\u001b[0;34m\u001b[0m\u001b[0m\n\u001b[1;32m    799\u001b[0m     \u001b[0;32mtry\u001b[0m\u001b[0;34m:\u001b[0m\u001b[0;34m\u001b[0m\u001b[0;34m\u001b[0m\u001b[0m\n\u001b[0;32m--> 800\u001b[0;31m       \u001b[0;32mreturn\u001b[0m \u001b[0mself\u001b[0m\u001b[0;34m.\u001b[0m\u001b[0m_next_internal\u001b[0m\u001b[0;34m(\u001b[0m\u001b[0;34m)\u001b[0m\u001b[0;34m\u001b[0m\u001b[0;34m\u001b[0m\u001b[0m\n\u001b[0m\u001b[1;32m    801\u001b[0m     \u001b[0;32mexcept\u001b[0m \u001b[0merrors\u001b[0m\u001b[0;34m.\u001b[0m\u001b[0mOutOfRangeError\u001b[0m\u001b[0;34m:\u001b[0m\u001b[0;34m\u001b[0m\u001b[0;34m\u001b[0m\u001b[0m\n\u001b[1;32m    802\u001b[0m       \u001b[0;32mraise\u001b[0m \u001b[0mStopIteration\u001b[0m\u001b[0;34m\u001b[0m\u001b[0;34m\u001b[0m\u001b[0m\n",
      "\u001b[0;32m/usr/local/lib/python3.7/dist-packages/tensorflow/python/data/ops/iterator_ops.py\u001b[0m in \u001b[0;36m_next_internal\u001b[0;34m(self)\u001b[0m\n\u001b[1;32m    784\u001b[0m           \u001b[0mself\u001b[0m\u001b[0;34m.\u001b[0m\u001b[0m_iterator_resource\u001b[0m\u001b[0;34m,\u001b[0m\u001b[0;34m\u001b[0m\u001b[0;34m\u001b[0m\u001b[0m\n\u001b[1;32m    785\u001b[0m           \u001b[0moutput_types\u001b[0m\u001b[0;34m=\u001b[0m\u001b[0mself\u001b[0m\u001b[0;34m.\u001b[0m\u001b[0m_flat_output_types\u001b[0m\u001b[0;34m,\u001b[0m\u001b[0;34m\u001b[0m\u001b[0;34m\u001b[0m\u001b[0m\n\u001b[0;32m--> 786\u001b[0;31m           output_shapes=self._flat_output_shapes)\n\u001b[0m\u001b[1;32m    787\u001b[0m \u001b[0;34m\u001b[0m\u001b[0m\n\u001b[1;32m    788\u001b[0m       \u001b[0;32mtry\u001b[0m\u001b[0;34m:\u001b[0m\u001b[0;34m\u001b[0m\u001b[0;34m\u001b[0m\u001b[0m\n",
      "\u001b[0;32m/usr/local/lib/python3.7/dist-packages/tensorflow/python/ops/gen_dataset_ops.py\u001b[0m in \u001b[0;36miterator_get_next\u001b[0;34m(iterator, output_types, output_shapes, name)\u001b[0m\n\u001b[1;32m   2840\u001b[0m       _result = pywrap_tfe.TFE_Py_FastPathExecute(\n\u001b[1;32m   2841\u001b[0m         \u001b[0m_ctx\u001b[0m\u001b[0;34m,\u001b[0m \u001b[0;34m\"IteratorGetNext\"\u001b[0m\u001b[0;34m,\u001b[0m \u001b[0mname\u001b[0m\u001b[0;34m,\u001b[0m \u001b[0miterator\u001b[0m\u001b[0;34m,\u001b[0m \u001b[0;34m\"output_types\"\u001b[0m\u001b[0;34m,\u001b[0m \u001b[0moutput_types\u001b[0m\u001b[0;34m,\u001b[0m\u001b[0;34m\u001b[0m\u001b[0;34m\u001b[0m\u001b[0m\n\u001b[0;32m-> 2842\u001b[0;31m         \"output_shapes\", output_shapes)\n\u001b[0m\u001b[1;32m   2843\u001b[0m       \u001b[0;32mreturn\u001b[0m \u001b[0m_result\u001b[0m\u001b[0;34m\u001b[0m\u001b[0;34m\u001b[0m\u001b[0m\n\u001b[1;32m   2844\u001b[0m     \u001b[0;32mexcept\u001b[0m \u001b[0m_core\u001b[0m\u001b[0;34m.\u001b[0m\u001b[0m_NotOkStatusException\u001b[0m \u001b[0;32mas\u001b[0m \u001b[0me\u001b[0m\u001b[0;34m:\u001b[0m\u001b[0;34m\u001b[0m\u001b[0;34m\u001b[0m\u001b[0m\n",
      "\u001b[0;31mKeyboardInterrupt\u001b[0m: "
     ]
    }
   ],
   "source": [
    "tqdm_notebook(list(train_ds.as_numpy_iterator()))"
   ]
  },
  {
   "cell_type": "code",
   "execution_count": null,
   "metadata": {
    "id": "YyTBT24vOQPa"
   },
   "outputs": [],
   "source": []
  },
  {
   "cell_type": "code",
   "execution_count": null,
   "metadata": {
    "colab": {
     "base_uri": "https://localhost:8080/",
     "height": 165
    },
    "executionInfo": {
     "elapsed": 9,
     "status": "error",
     "timestamp": 1639311056647,
     "user": {
      "displayName": "Артур Смирнов",
      "photoUrl": "https://lh3.googleusercontent.com/a-/AOh14Gg2gxK9MeayOvsZ1DA0s0-YrCW0niN5rvWapE1QNw=s64",
      "userId": "11940610574837256558"
     },
     "user_tz": -180
    },
    "id": "3fU10F84AhBL",
    "outputId": "c0137b00-7ce3-4438-82e6-26ffe0cc20de"
   },
   "outputs": [
    {
     "ename": "TypeError",
     "evalue": "ignored",
     "output_type": "error",
     "traceback": [
      "\u001b[0;31m---------------------------------------------------------------------------\u001b[0m",
      "\u001b[0;31mTypeError\u001b[0m                                 Traceback (most recent call last)",
      "\u001b[0;32m<ipython-input-75-ee526ee7ded2>\u001b[0m in \u001b[0;36m<module>\u001b[0;34m()\u001b[0m\n\u001b[0;32m----> 1\u001b[0;31m \u001b[0mtrain_ds\u001b[0m\u001b[0;34m[\u001b[0m\u001b[0;36m1\u001b[0m\u001b[0;34m]\u001b[0m\u001b[0;34m\u001b[0m\u001b[0;34m\u001b[0m\u001b[0m\n\u001b[0m",
      "\u001b[0;31mTypeError\u001b[0m: 'BatchDataset' object is not subscriptable"
     ]
    }
   ],
   "source": []
  },
  {
   "cell_type": "code",
   "execution_count": null,
   "metadata": {
    "colab": {
     "base_uri": "https://localhost:8080/"
    },
    "executionInfo": {
     "elapsed": 2750,
     "status": "ok",
     "timestamp": 1639068084423,
     "user": {
      "displayName": "Артур Смирнов",
      "photoUrl": "https://lh3.googleusercontent.com/a-/AOh14Gg2gxK9MeayOvsZ1DA0s0-YrCW0niN5rvWapE1QNw=s64",
      "userId": "11940610574837256558"
     },
     "user_tz": -180
    },
    "id": "pC-hBOuYu-f_",
    "outputId": "17009baf-8be1-4617-9d12-86be975594f4"
   },
   "outputs": [
    {
     "name": "stdout",
     "output_type": "stream",
     "text": [
      "Found 55322 files belonging to 2 classes.\n",
      "Using 11064 files for validation.\n"
     ]
    }
   ],
   "source": [
    "val_ds = tf.keras.utils.image_dataset_from_directory(\n",
    "    train_dir,\n",
    "    validation_split = 0.2,\n",
    "    subset = 'validation',\n",
    "    seed = 123,\n",
    "    image_size = (img_height, img_width),\n",
    "    batch_size = batch_size\n",
    ")"
   ]
  },
  {
   "cell_type": "code",
   "execution_count": null,
   "metadata": {
    "colab": {
     "base_uri": "https://localhost:8080/"
    },
    "executionInfo": {
     "elapsed": 260,
     "status": "ok",
     "timestamp": 1639310403313,
     "user": {
      "displayName": "Артур Смирнов",
      "photoUrl": "https://lh3.googleusercontent.com/a-/AOh14Gg2gxK9MeayOvsZ1DA0s0-YrCW0niN5rvWapE1QNw=s64",
      "userId": "11940610574837256558"
     },
     "user_tz": -180
    },
    "id": "9e70OKLXnQ-0",
    "outputId": "7f1b1624-a75b-4424-fff5-9a6a85d1619f"
   },
   "outputs": [
    {
     "name": "stdout",
     "output_type": "stream",
     "text": [
      "['indoor', 'outdoor']\n"
     ]
    },
    {
     "data": {
      "text/plain": [
       "tensorflow.python.data.ops.dataset_ops.BatchDataset"
      ]
     },
     "execution_count": 38,
     "metadata": {},
     "output_type": "execute_result"
    }
   ],
   "source": [
    "class_names = train_ds.class_names\n",
    "print(class_names)\n",
    "type(train_ds)"
   ]
  },
  {
   "cell_type": "code",
   "execution_count": null,
   "metadata": {
    "colab": {
     "base_uri": "https://localhost:8080/",
     "height": 252
    },
    "executionInfo": {
     "elapsed": 272,
     "status": "error",
     "timestamp": 1639310763506,
     "user": {
      "displayName": "Артур Смирнов",
      "photoUrl": "https://lh3.googleusercontent.com/a-/AOh14Gg2gxK9MeayOvsZ1DA0s0-YrCW0niN5rvWapE1QNw=s64",
      "userId": "11940610574837256558"
     },
     "user_tz": -180
    },
    "id": "PdW3Gvzkn0gL",
    "outputId": "e45127c8-f493-4d9c-8608-51035ca44a2b"
   },
   "outputs": [
    {
     "ename": "TypeError",
     "evalue": "ignored",
     "output_type": "error",
     "traceback": [
      "\u001b[0;31m---------------------------------------------------------------------------\u001b[0m",
      "\u001b[0;31mTypeError\u001b[0m                                 Traceback (most recent call last)",
      "\u001b[0;32m<ipython-input-59-69985a8b0ea9>\u001b[0m in \u001b[0;36m<module>\u001b[0;34m()\u001b[0m\n\u001b[1;32m      1\u001b[0m \u001b[0mplt\u001b[0m\u001b[0;34m.\u001b[0m\u001b[0mfigure\u001b[0m\u001b[0;34m(\u001b[0m\u001b[0mfigsize\u001b[0m \u001b[0;34m=\u001b[0m \u001b[0;34m(\u001b[0m\u001b[0;36m10\u001b[0m\u001b[0;34m,\u001b[0m\u001b[0;36m10\u001b[0m\u001b[0;34m)\u001b[0m\u001b[0;34m)\u001b[0m\u001b[0;34m\u001b[0m\u001b[0;34m\u001b[0m\u001b[0m\n\u001b[0;32m----> 2\u001b[0;31m \u001b[0;32mfor\u001b[0m \u001b[0mimages\u001b[0m\u001b[0;34m,\u001b[0m \u001b[0mlabels\u001b[0m \u001b[0;32min\u001b[0m \u001b[0mimg\u001b[0m\u001b[0;34m(\u001b[0m\u001b[0;36m1\u001b[0m\u001b[0;34m)\u001b[0m\u001b[0;34m:\u001b[0m\u001b[0;34m\u001b[0m\u001b[0;34m\u001b[0m\u001b[0m\n\u001b[0m\u001b[1;32m      3\u001b[0m   \u001b[0;32mfor\u001b[0m \u001b[0mi\u001b[0m \u001b[0;32min\u001b[0m \u001b[0mrange\u001b[0m\u001b[0;34m(\u001b[0m\u001b[0;36m9\u001b[0m\u001b[0;34m)\u001b[0m\u001b[0;34m:\u001b[0m\u001b[0;34m\u001b[0m\u001b[0;34m\u001b[0m\u001b[0m\n\u001b[1;32m      4\u001b[0m     \u001b[0max\u001b[0m \u001b[0;34m=\u001b[0m \u001b[0mplt\u001b[0m\u001b[0;34m.\u001b[0m\u001b[0msubplot\u001b[0m\u001b[0;34m(\u001b[0m\u001b[0;36m3\u001b[0m\u001b[0;34m,\u001b[0m\u001b[0;36m3\u001b[0m\u001b[0;34m,\u001b[0m \u001b[0mi\u001b[0m \u001b[0;34m+\u001b[0m \u001b[0;36m1\u001b[0m\u001b[0;34m)\u001b[0m\u001b[0;34m\u001b[0m\u001b[0;34m\u001b[0m\u001b[0m\n\u001b[1;32m      5\u001b[0m     \u001b[0mplt\u001b[0m\u001b[0;34m.\u001b[0m\u001b[0mimshow\u001b[0m\u001b[0;34m(\u001b[0m\u001b[0mimages\u001b[0m\u001b[0;34m[\u001b[0m\u001b[0mi\u001b[0m\u001b[0;34m,\u001b[0m\u001b[0mi\u001b[0m\u001b[0;34m,\u001b[0m\u001b[0mi\u001b[0m\u001b[0;34m]\u001b[0m\u001b[0;34m.\u001b[0m\u001b[0mnumpy\u001b[0m\u001b[0;34m(\u001b[0m\u001b[0;34m)\u001b[0m\u001b[0;34m/\u001b[0m\u001b[0;36m255\u001b[0m\u001b[0;34m)\u001b[0m\u001b[0;34m\u001b[0m\u001b[0;34m\u001b[0m\u001b[0m\n",
      "\u001b[0;31mTypeError\u001b[0m: 'numpy.ndarray' object is not callable"
     ]
    },
    {
     "data": {
      "text/plain": [
       "<Figure size 720x720 with 0 Axes>"
      ]
     },
     "metadata": {},
     "output_type": "display_data"
    }
   ],
   "source": [
    "plt.figure(figsize = (10,10))\n",
    "for images, labels in train_ds.take(1):\n",
    "  for i in range(9):\n",
    "    ax = plt.subplot(3,3, i + 1)\n",
    "    plt.imshow(images[i].numpy()/255)\n",
    "    plt.title(class_names[labels[i]])"
   ]
  },
  {
   "cell_type": "code",
   "execution_count": null,
   "metadata": {
    "id": "WbL93z_9qKcE"
   },
   "outputs": [],
   "source": [
    "#basic model\n",
    "num_classes = 2\n",
    "model = Sequential ([\n",
    "  layers.Rescaling(1/255, input_shape=(img_height, img_width, 3)),\n",
    "  layers.Dense(128, activation= 'relu'),\n",
    "  layers.Dense(num_classes)\n",
    "])"
   ]
  },
  {
   "cell_type": "code",
   "execution_count": null,
   "metadata": {
    "id": "ktnNvS9dsIg_"
   },
   "outputs": [],
   "source": [
    "model.compile(optimizer='adam',\n",
    "              loss = tf.keras.losses.SparseCategoricalCrossentropy(from_logits=True),\n",
    "              metrics=['accuracy'])"
   ]
  },
  {
   "cell_type": "code",
   "execution_count": null,
   "metadata": {
    "id": "FTU6YPuYuSWn"
   },
   "outputs": [],
   "source": [
    "AUTOTUNE = tf.data.AUTOTUNE\n",
    "\n",
    "train_ds = train_ds.cache().shuffle(1000).prefetch(buffer_size=AUTOTUNE)\n",
    "val_ds = val_ds.cache().prefetch(buffer_size = AUTOTUNE)"
   ]
  },
  {
   "cell_type": "code",
   "execution_count": null,
   "metadata": {
    "id": "PPt41H4QsdN1"
   },
   "outputs": [],
   "source": [
    "epochs = 1\n",
    "history = model.fit(\n",
    "    train_ds,\n",
    "    validation_data = val_ds,\n",
    "    verbose = \"auto\",\n",
    "    epochs = epochs\n",
    "     \n",
    ")\n",
    "# 2 hour 16 min\n"
   ]
  },
  {
   "cell_type": "code",
   "execution_count": null,
   "metadata": {
    "colab": {
     "base_uri": "https://localhost:8080/"
    },
    "executionInfo": {
     "elapsed": 1817,
     "status": "ok",
     "timestamp": 1637931715608,
     "user": {
      "displayName": "Артур Смирнов",
      "photoUrl": "https://lh3.googleusercontent.com/a-/AOh14Gg2gxK9MeayOvsZ1DA0s0-YrCW0niN5rvWapE1QNw=s64",
      "userId": "11940610574837256558"
     },
     "user_tz": -180
    },
    "id": "p7vEo-fCTumP",
    "outputId": "e8321ba1-aaf8-4852-b5f9-b9d89e273be5"
   },
   "outputs": [
    {
     "name": "stdout",
     "output_type": "stream",
     "text": [
      "INFO:tensorflow:Assets written to: /content/drive/MyDrive/train_control/keras_first/assets\n"
     ]
    }
   ],
   "source": [
    "model.save('keras_first')"
   ]
  },
  {
   "cell_type": "code",
   "execution_count": null,
   "metadata": {
    "id": "xPlf8JeST9zP"
   },
   "outputs": [],
   "source": [
    "repack('/content/test.zip')"
   ]
  },
  {
   "cell_type": "code",
   "execution_count": null,
   "metadata": {
    "id": "hlvFJLeGs1_5"
   },
   "outputs": [],
   "source": [
    "model = keras.models.load_model('keras_first')"
   ]
  },
  {
   "cell_type": "code",
   "execution_count": null,
   "metadata": {
    "id": "VAd2O_8OnipT"
   },
   "outputs": [],
   "source": [
    "test_path = 'test'\n"
   ]
  },
  {
   "cell_type": "code",
   "execution_count": null,
   "metadata": {
    "colab": {
     "base_uri": "https://localhost:8080/"
    },
    "executionInfo": {
     "elapsed": 962,
     "status": "ok",
     "timestamp": 1638205409258,
     "user": {
      "displayName": "Артур Смирнов",
      "photoUrl": "https://lh3.googleusercontent.com/a-/AOh14Gg2gxK9MeayOvsZ1DA0s0-YrCW0niN5rvWapE1QNw=s64",
      "userId": "11940610574837256558"
     },
     "user_tz": -180
    },
    "id": "H1R4-qltpjn0",
    "outputId": "f1d0cb70-aa58-429a-b796-9ceb0fd80a67"
   },
   "outputs": [
    {
     "name": "stdout",
     "output_type": "stream",
     "text": [
      "27660\n"
     ]
    }
   ],
   "source": [
    "! ls /content/drive/MyDrive/test| wc -l"
   ]
  },
  {
   "cell_type": "code",
   "execution_count": null,
   "metadata": {
    "colab": {
     "base_uri": "https://localhost:8080/",
     "height": 49,
     "referenced_widgets": [
      "e0eb288979804b9985c35120f7829d74",
      "1003e5c3d98d4854bb239c21be6f2904",
      "d6c6149890b7466f876819308af759bd",
      "8b44c220705a431e8c0221bfe93469e4",
      "df6a784694f14d7d81a5abe67a7a29ad",
      "dd4f47df86c84df4a029035f6edce830",
      "736c27ba3eb94d25854b4849971b61d4",
      "9c8e7c51be14475083ba633e24fa7a11",
      "8ac3209b3f22431b83f71591436fffc5",
      "c40babc4c6d442bab17da64c22d1b8ca",
      "171c8e1e804a4d998577350395b390a7"
     ]
    },
    "executionInfo": {
     "elapsed": 12329142,
     "status": "ok",
     "timestamp": 1638471991275,
     "user": {
      "displayName": "Артур Смирнов",
      "photoUrl": "https://lh3.googleusercontent.com/a-/AOh14Gg2gxK9MeayOvsZ1DA0s0-YrCW0niN5rvWapE1QNw=s64",
      "userId": "11940610574837256558"
     },
     "user_tz": -180
    },
    "id": "AeW-lGQWl6BW",
    "outputId": "29fe519a-fe15-47f4-9217-0dda2fdc710e"
   },
   "outputs": [
    {
     "data": {
      "application/vnd.jupyter.widget-view+json": {
       "model_id": "e0eb288979804b9985c35120f7829d74",
       "version_major": 2,
       "version_minor": 0
      },
      "text/plain": [
       "  0%|          | 0/27660 [00:00<?, ?it/s]"
      ]
     },
     "metadata": {},
     "output_type": "display_data"
    }
   ],
   "source": [
    "from PIL import Image \n",
    "import glob\n",
    "from keras.preprocessing import image\n",
    "from tqdm.notebook import tqdm_notebook\n",
    "\n",
    "\n",
    "images = []\n",
    "for img in tqdm_notebook(os.listdir(test_path)):\n",
    "    img = os.path.join(test_path, img)\n",
    "    img = image.load_img(img, target_size=(img_width, img_height))\n",
    "    img = image.img_to_array(img)\n",
    "    img = np.expand_dims(img, axis=0)\n",
    "    images.append(img)\n",
    "\n"
   ]
  },
  {
   "cell_type": "code",
   "execution_count": null,
   "metadata": {
    "colab": {
     "base_uri": "https://localhost:8080/",
     "height": 744
    },
    "executionInfo": {
     "elapsed": 364,
     "status": "error",
     "timestamp": 1638474370973,
     "user": {
      "displayName": "Артур Смирнов",
      "photoUrl": "https://lh3.googleusercontent.com/a-/AOh14Gg2gxK9MeayOvsZ1DA0s0-YrCW0niN5rvWapE1QNw=s64",
      "userId": "11940610574837256558"
     },
     "user_tz": -180
    },
    "id": "CUZiLNUZig1c",
    "outputId": "a32b7d70-79f0-4280-beab-8e6b247bdbc8"
   },
   "outputs": [
    {
     "ename": "ValueError",
     "evalue": "ignored",
     "output_type": "error",
     "traceback": [
      "\u001b[0;31m---------------------------------------------------------------------------\u001b[0m",
      "\u001b[0;31mValueError\u001b[0m                                Traceback (most recent call last)",
      "\u001b[0;32m<ipython-input-9-eb4dc3fbd7fc>\u001b[0m in \u001b[0;36m<module>\u001b[0;34m()\u001b[0m\n\u001b[1;32m      2\u001b[0m \u001b[0;31m# stack up images list to pass for prediction\u001b[0m\u001b[0;34m\u001b[0m\u001b[0;34m\u001b[0m\u001b[0;34m\u001b[0m\u001b[0m\n\u001b[1;32m      3\u001b[0m \u001b[0mimages\u001b[0m \u001b[0;34m=\u001b[0m \u001b[0mnp\u001b[0m\u001b[0;34m.\u001b[0m\u001b[0mvstack\u001b[0m\u001b[0;34m(\u001b[0m\u001b[0mimages\u001b[0m\u001b[0;34m)\u001b[0m\u001b[0;34m\u001b[0m\u001b[0;34m\u001b[0m\u001b[0m\n\u001b[0;32m----> 4\u001b[0;31m \u001b[0mclasses\u001b[0m \u001b[0;34m=\u001b[0m \u001b[0mmodel\u001b[0m\u001b[0;34m.\u001b[0m\u001b[0mpredict\u001b[0m\u001b[0;34m(\u001b[0m\u001b[0mimages\u001b[0m\u001b[0;34m)\u001b[0m\u001b[0;34m\u001b[0m\u001b[0;34m\u001b[0m\u001b[0m\n\u001b[0m\u001b[1;32m      5\u001b[0m \u001b[0mprint\u001b[0m\u001b[0;34m(\u001b[0m\u001b[0mclasses\u001b[0m\u001b[0;34m)\u001b[0m\u001b[0;34m\u001b[0m\u001b[0;34m\u001b[0m\u001b[0m\n\u001b[1;32m      6\u001b[0m \u001b[0;34m\u001b[0m\u001b[0m\n",
      "\u001b[0;32m/usr/local/lib/python3.7/dist-packages/keras/utils/traceback_utils.py\u001b[0m in \u001b[0;36merror_handler\u001b[0;34m(*args, **kwargs)\u001b[0m\n\u001b[1;32m     65\u001b[0m     \u001b[0;32mexcept\u001b[0m \u001b[0mException\u001b[0m \u001b[0;32mas\u001b[0m \u001b[0me\u001b[0m\u001b[0;34m:\u001b[0m  \u001b[0;31m# pylint: disable=broad-except\u001b[0m\u001b[0;34m\u001b[0m\u001b[0;34m\u001b[0m\u001b[0m\n\u001b[1;32m     66\u001b[0m       \u001b[0mfiltered_tb\u001b[0m \u001b[0;34m=\u001b[0m \u001b[0m_process_traceback_frames\u001b[0m\u001b[0;34m(\u001b[0m\u001b[0me\u001b[0m\u001b[0;34m.\u001b[0m\u001b[0m__traceback__\u001b[0m\u001b[0;34m)\u001b[0m\u001b[0;34m\u001b[0m\u001b[0;34m\u001b[0m\u001b[0m\n\u001b[0;32m---> 67\u001b[0;31m       \u001b[0;32mraise\u001b[0m \u001b[0me\u001b[0m\u001b[0;34m.\u001b[0m\u001b[0mwith_traceback\u001b[0m\u001b[0;34m(\u001b[0m\u001b[0mfiltered_tb\u001b[0m\u001b[0;34m)\u001b[0m \u001b[0;32mfrom\u001b[0m \u001b[0;32mNone\u001b[0m\u001b[0;34m\u001b[0m\u001b[0;34m\u001b[0m\u001b[0m\n\u001b[0m\u001b[1;32m     68\u001b[0m     \u001b[0;32mfinally\u001b[0m\u001b[0;34m:\u001b[0m\u001b[0;34m\u001b[0m\u001b[0;34m\u001b[0m\u001b[0m\n\u001b[1;32m     69\u001b[0m       \u001b[0;32mdel\u001b[0m \u001b[0mfiltered_tb\u001b[0m\u001b[0;34m\u001b[0m\u001b[0;34m\u001b[0m\u001b[0m\n",
      "\u001b[0;32m/usr/local/lib/python3.7/dist-packages/tensorflow/python/framework/func_graph.py\u001b[0m in \u001b[0;36mautograph_handler\u001b[0;34m(*args, **kwargs)\u001b[0m\n\u001b[1;32m   1127\u001b[0m           \u001b[0;32mexcept\u001b[0m \u001b[0mException\u001b[0m \u001b[0;32mas\u001b[0m \u001b[0me\u001b[0m\u001b[0;34m:\u001b[0m  \u001b[0;31m# pylint:disable=broad-except\u001b[0m\u001b[0;34m\u001b[0m\u001b[0;34m\u001b[0m\u001b[0m\n\u001b[1;32m   1128\u001b[0m             \u001b[0;32mif\u001b[0m \u001b[0mhasattr\u001b[0m\u001b[0;34m(\u001b[0m\u001b[0me\u001b[0m\u001b[0;34m,\u001b[0m \u001b[0;34m\"ag_error_metadata\"\u001b[0m\u001b[0;34m)\u001b[0m\u001b[0;34m:\u001b[0m\u001b[0;34m\u001b[0m\u001b[0;34m\u001b[0m\u001b[0m\n\u001b[0;32m-> 1129\u001b[0;31m               \u001b[0;32mraise\u001b[0m \u001b[0me\u001b[0m\u001b[0;34m.\u001b[0m\u001b[0mag_error_metadata\u001b[0m\u001b[0;34m.\u001b[0m\u001b[0mto_exception\u001b[0m\u001b[0;34m(\u001b[0m\u001b[0me\u001b[0m\u001b[0;34m)\u001b[0m\u001b[0;34m\u001b[0m\u001b[0;34m\u001b[0m\u001b[0m\n\u001b[0m\u001b[1;32m   1130\u001b[0m             \u001b[0;32melse\u001b[0m\u001b[0;34m:\u001b[0m\u001b[0;34m\u001b[0m\u001b[0;34m\u001b[0m\u001b[0m\n\u001b[1;32m   1131\u001b[0m               \u001b[0;32mraise\u001b[0m\u001b[0;34m\u001b[0m\u001b[0;34m\u001b[0m\u001b[0m\n",
      "\u001b[0;31mValueError\u001b[0m: in user code:\n\n    File \"/usr/local/lib/python3.7/dist-packages/keras/engine/training.py\", line 1621, in predict_function  *\n        return step_function(self, iterator)\n    File \"/usr/local/lib/python3.7/dist-packages/keras/engine/training.py\", line 1611, in step_function  **\n        outputs = model.distribute_strategy.run(run_step, args=(data,))\n    File \"/usr/local/lib/python3.7/dist-packages/keras/engine/training.py\", line 1604, in run_step  **\n        outputs = model.predict_step(data)\n    File \"/usr/local/lib/python3.7/dist-packages/keras/engine/training.py\", line 1572, in predict_step\n        return self(x, training=False)\n    File \"/usr/local/lib/python3.7/dist-packages/keras/utils/traceback_utils.py\", line 67, in error_handler\n        raise e.with_traceback(filtered_tb) from None\n    File \"/usr/local/lib/python3.7/dist-packages/keras/engine/input_spec.py\", line 263, in assert_input_compatibility\n        raise ValueError(f'Input {input_index} of layer \"{layer_name}\" is '\n\n    ValueError: Input 0 of layer \"sequential\" is incompatible with the layer: expected shape=(None, 25, 25, 3), found shape=(None, 25, 3)\n"
     ]
    }
   ],
   "source": [
    "\n",
    "# stack up images list to pass for prediction\n",
    "images = np.vstack(images)\n",
    "classes = model.predict(images)\n",
    "print(classes)\n"
   ]
  },
  {
   "cell_type": "code",
   "execution_count": null,
   "metadata": {
    "colab": {
     "base_uri": "https://localhost:8080/"
    },
    "executionInfo": {
     "elapsed": 592,
     "status": "ok",
     "timestamp": 1638480917341,
     "user": {
      "displayName": "Артур Смирнов",
      "photoUrl": "https://lh3.googleusercontent.com/a-/AOh14Gg2gxK9MeayOvsZ1DA0s0-YrCW0niN5rvWapE1QNw=s64",
      "userId": "11940610574837256558"
     },
     "user_tz": -180
    },
    "id": "4OpWJ4xQrkxr",
    "outputId": "358eb6b9-0801-42bc-db63-0adbe06b9794"
   },
   "outputs": [
    {
     "data": {
      "text/plain": [
       "['62331',\n",
       " '23227',\n",
       " '81917',\n",
       " '27905',\n",
       " '35476',\n",
       " '4871',\n",
       " '6022',\n",
       " '30915',\n",
       " '15340',\n",
       " '43163',\n",
       " '25780',\n",
       " '55978',\n",
       " '13659',\n",
       " '76405',\n",
       " '77431',\n",
       " '70549',\n",
       " '42856',\n",
       " '13774',\n",
       " '50099',\n",
       " '55529',\n",
       " '77959',\n",
       " '11603',\n",
       " '6483',\n",
       " '1497',\n",
       " '45327',\n",
       " '30040',\n",
       " '81166',\n",
       " '38933',\n",
       " '42568',\n",
       " '33331',\n",
       " '49528',\n",
       " '43105',\n",
       " '42053',\n",
       " '41575',\n",
       " '53153',\n",
       " '1923',\n",
       " '48441',\n",
       " '34709',\n",
       " '58173',\n",
       " '76261',\n",
       " '15715',\n",
       " '4340',\n",
       " '70971',\n",
       " '13731',\n",
       " '59231',\n",
       " '28821',\n",
       " '62',\n",
       " '10767',\n",
       " '47363',\n",
       " '8450',\n",
       " '46963',\n",
       " '70828',\n",
       " '40822',\n",
       " '37385',\n",
       " '64162',\n",
       " '3388',\n",
       " '40224',\n",
       " '45027',\n",
       " '54949',\n",
       " '6120',\n",
       " '70081',\n",
       " '3249',\n",
       " '35670',\n",
       " '78963',\n",
       " '43329',\n",
       " '23566',\n",
       " '43730',\n",
       " '10410',\n",
       " '2378',\n",
       " '32880',\n",
       " '37271',\n",
       " '70279',\n",
       " '42228',\n",
       " '65528',\n",
       " '16124',\n",
       " '61102',\n",
       " '69814',\n",
       " '56354',\n",
       " '51530',\n",
       " '65510',\n",
       " '77918',\n",
       " '35035',\n",
       " '8126',\n",
       " '46634',\n",
       " '4739',\n",
       " '41613',\n",
       " '699',\n",
       " '34994',\n",
       " '12049',\n",
       " '37818',\n",
       " '37974',\n",
       " '15940',\n",
       " '60966',\n",
       " '36293',\n",
       " '31918',\n",
       " '49667',\n",
       " '39894',\n",
       " '52446',\n",
       " '53110',\n",
       " '37561',\n",
       " '20878',\n",
       " '4335',\n",
       " '35437',\n",
       " '78520',\n",
       " '77988',\n",
       " '30465',\n",
       " '12687',\n",
       " '35800',\n",
       " '57016',\n",
       " '19398',\n",
       " '69547',\n",
       " '56262',\n",
       " '64262',\n",
       " '45223',\n",
       " '18483',\n",
       " '64640',\n",
       " '57831',\n",
       " '64289',\n",
       " '27233',\n",
       " '10960',\n",
       " '51130',\n",
       " '7100',\n",
       " '4108',\n",
       " '35263',\n",
       " '1298',\n",
       " '23621',\n",
       " '11788',\n",
       " '28251',\n",
       " '24175',\n",
       " '48183',\n",
       " '1237',\n",
       " '64110',\n",
       " '21260',\n",
       " '35336',\n",
       " '24217',\n",
       " '69743',\n",
       " '32041',\n",
       " '13408',\n",
       " '28481',\n",
       " '55759',\n",
       " '15829',\n",
       " '82920',\n",
       " '41389',\n",
       " '69572',\n",
       " '69375',\n",
       " '53463',\n",
       " '41709',\n",
       " '48560',\n",
       " '42871',\n",
       " '41615',\n",
       " '27048',\n",
       " '37588',\n",
       " '20682',\n",
       " '72167',\n",
       " '7645',\n",
       " '64475',\n",
       " '39131',\n",
       " '5125',\n",
       " '6538',\n",
       " '41565',\n",
       " '57116',\n",
       " '48318',\n",
       " '30830',\n",
       " '72248',\n",
       " '19120',\n",
       " '2841',\n",
       " '4080',\n",
       " '33177',\n",
       " '32550',\n",
       " '72717',\n",
       " '38345',\n",
       " '77567',\n",
       " '50012',\n",
       " '15680',\n",
       " '75636',\n",
       " '49494',\n",
       " '7026',\n",
       " '6635',\n",
       " '29082',\n",
       " '13483',\n",
       " '24508',\n",
       " '48283',\n",
       " '62572',\n",
       " '21810',\n",
       " '33560',\n",
       " '62853',\n",
       " '67550',\n",
       " '35830',\n",
       " '5272',\n",
       " '79414',\n",
       " '5470',\n",
       " '6202',\n",
       " '55375',\n",
       " '25076',\n",
       " '1051',\n",
       " '14881',\n",
       " '77073',\n",
       " '58937',\n",
       " '64515',\n",
       " '4399',\n",
       " '22975',\n",
       " '46366',\n",
       " '22459',\n",
       " '42606',\n",
       " '33634',\n",
       " '58952',\n",
       " '18816',\n",
       " '39002',\n",
       " '54611',\n",
       " '82845',\n",
       " '19912',\n",
       " '55121',\n",
       " '74896',\n",
       " '47907',\n",
       " '26164',\n",
       " '59830',\n",
       " '61084',\n",
       " '54118',\n",
       " '55323',\n",
       " '69672',\n",
       " '62780',\n",
       " '2286',\n",
       " '23869',\n",
       " '43143',\n",
       " '14989',\n",
       " '38628',\n",
       " '56778',\n",
       " '71838',\n",
       " '1168',\n",
       " '26887',\n",
       " '20602',\n",
       " '52921',\n",
       " '55523',\n",
       " '60826',\n",
       " '29792',\n",
       " '13561',\n",
       " '40359',\n",
       " '82402',\n",
       " '65254',\n",
       " '72327',\n",
       " '73639',\n",
       " '52116',\n",
       " '7470',\n",
       " '11522',\n",
       " '8432',\n",
       " '47982',\n",
       " '48329',\n",
       " '13074',\n",
       " '23667',\n",
       " '74720',\n",
       " '53536',\n",
       " '58314',\n",
       " '15236',\n",
       " '56065',\n",
       " '18795',\n",
       " '17769',\n",
       " '52640',\n",
       " '14482',\n",
       " '74936',\n",
       " '17750',\n",
       " '42',\n",
       " '520',\n",
       " '62338',\n",
       " '7687',\n",
       " '51982',\n",
       " '5976',\n",
       " '54344',\n",
       " '54555',\n",
       " '57479',\n",
       " '55080',\n",
       " '60304',\n",
       " '75756',\n",
       " '37767',\n",
       " '64268',\n",
       " '42300',\n",
       " '42726',\n",
       " '45522',\n",
       " '19864',\n",
       " '58415',\n",
       " '62350',\n",
       " '15873',\n",
       " '48006',\n",
       " '30715',\n",
       " '72094',\n",
       " '65437',\n",
       " '5164',\n",
       " '18090',\n",
       " '53253',\n",
       " '41772',\n",
       " '71191',\n",
       " '59102',\n",
       " '72317',\n",
       " '73683',\n",
       " '23717',\n",
       " '61085',\n",
       " '73381',\n",
       " '14505',\n",
       " '57737',\n",
       " '75408',\n",
       " '71133',\n",
       " '35966',\n",
       " '30175',\n",
       " '43634',\n",
       " '66300',\n",
       " '55905',\n",
       " '22363',\n",
       " '41132',\n",
       " '35540',\n",
       " '55149',\n",
       " '45646',\n",
       " '29680',\n",
       " '41377',\n",
       " '80206',\n",
       " '63930',\n",
       " '45476',\n",
       " '48251',\n",
       " '58530',\n",
       " '14647',\n",
       " '64630',\n",
       " '33302',\n",
       " '25026',\n",
       " '43905',\n",
       " '23524',\n",
       " '51060',\n",
       " '41848',\n",
       " '60690',\n",
       " '32931',\n",
       " '54809',\n",
       " '69938',\n",
       " '59457',\n",
       " '29344',\n",
       " '32821',\n",
       " '32703',\n",
       " '24783',\n",
       " '27366',\n",
       " '37854',\n",
       " '74742',\n",
       " '22925',\n",
       " '1262',\n",
       " '4819',\n",
       " '66048',\n",
       " '53858',\n",
       " '9770',\n",
       " '38536',\n",
       " '39736',\n",
       " '19048',\n",
       " '25095',\n",
       " '31619',\n",
       " '36676',\n",
       " '25077',\n",
       " '30433',\n",
       " '24745',\n",
       " '18333',\n",
       " '23226',\n",
       " '76086',\n",
       " '81697',\n",
       " '61487',\n",
       " '7973',\n",
       " '78532',\n",
       " '28566',\n",
       " '82387',\n",
       " '68293',\n",
       " '7059',\n",
       " '25632',\n",
       " '114',\n",
       " '60655',\n",
       " '45104',\n",
       " '66236',\n",
       " '35733',\n",
       " '42672',\n",
       " '74303',\n",
       " '72831',\n",
       " '61768',\n",
       " '43452',\n",
       " '51057',\n",
       " '42331',\n",
       " '21250',\n",
       " '56806',\n",
       " '73881',\n",
       " '49097',\n",
       " '65632',\n",
       " '16036',\n",
       " '9138',\n",
       " '60325',\n",
       " '66265',\n",
       " '55870',\n",
       " '71388',\n",
       " '80341',\n",
       " '35084',\n",
       " '33962',\n",
       " '14084',\n",
       " '79847',\n",
       " '50353',\n",
       " '24280',\n",
       " '32623',\n",
       " '27121',\n",
       " '9834',\n",
       " '61909',\n",
       " '5443',\n",
       " '59274',\n",
       " '73953',\n",
       " '72203',\n",
       " '79706',\n",
       " '51403',\n",
       " '25468',\n",
       " '56948',\n",
       " '64337',\n",
       " '75102',\n",
       " '19124',\n",
       " '79844',\n",
       " '69437',\n",
       " '41134',\n",
       " '35448',\n",
       " '63241',\n",
       " '60854',\n",
       " '7929',\n",
       " '9010',\n",
       " '66492',\n",
       " '69222',\n",
       " '13302',\n",
       " '27209',\n",
       " '42730',\n",
       " '23826',\n",
       " '29702',\n",
       " '38821',\n",
       " '32347',\n",
       " '73545',\n",
       " '27902',\n",
       " '28717',\n",
       " '55731',\n",
       " '52888',\n",
       " '33490',\n",
       " '12743',\n",
       " '27146',\n",
       " '13365',\n",
       " '16754',\n",
       " '14484',\n",
       " '55046',\n",
       " '54962',\n",
       " '40925',\n",
       " '55363',\n",
       " '74190',\n",
       " '10564',\n",
       " '8760',\n",
       " '69320',\n",
       " '20561',\n",
       " '13981',\n",
       " '69899',\n",
       " '24135',\n",
       " '40352',\n",
       " '72277',\n",
       " '76465',\n",
       " '13541',\n",
       " '72144',\n",
       " '47001',\n",
       " '33439',\n",
       " '73266',\n",
       " '50031',\n",
       " '80980',\n",
       " '58182',\n",
       " '23291',\n",
       " '35686',\n",
       " '3258',\n",
       " '80043',\n",
       " '33993',\n",
       " '57480',\n",
       " '59786',\n",
       " '72969',\n",
       " '46676',\n",
       " '64477',\n",
       " '43705',\n",
       " '3526',\n",
       " '29838',\n",
       " '26574',\n",
       " '39811',\n",
       " '79144',\n",
       " '46317',\n",
       " '63850',\n",
       " '14568',\n",
       " '66294',\n",
       " '25452',\n",
       " '37709',\n",
       " '35706',\n",
       " '69668',\n",
       " '69964',\n",
       " '72758',\n",
       " '37712',\n",
       " '30717',\n",
       " '7962',\n",
       " '77035',\n",
       " '52708',\n",
       " '58318',\n",
       " '71675',\n",
       " '21364',\n",
       " '67215',\n",
       " '61339',\n",
       " '50424',\n",
       " '3128',\n",
       " '35015',\n",
       " '80713',\n",
       " '47850',\n",
       " '57010',\n",
       " '65308',\n",
       " '33815',\n",
       " '43218',\n",
       " '33796',\n",
       " '58362',\n",
       " '29398',\n",
       " '76020',\n",
       " '63692',\n",
       " '60494',\n",
       " '47244',\n",
       " '57171',\n",
       " '22438',\n",
       " '6441',\n",
       " '5213',\n",
       " '37403',\n",
       " '16915',\n",
       " '80520',\n",
       " '51726',\n",
       " '54511',\n",
       " '5326',\n",
       " '68118',\n",
       " '50205',\n",
       " '67652',\n",
       " '56355',\n",
       " '13442',\n",
       " '76021',\n",
       " '67795',\n",
       " '1988',\n",
       " '12965',\n",
       " '52588',\n",
       " '29355',\n",
       " '47574',\n",
       " '61377',\n",
       " '50138',\n",
       " '21853',\n",
       " '29161',\n",
       " '63485',\n",
       " '74574',\n",
       " '15875',\n",
       " '47872',\n",
       " '65823',\n",
       " '66821',\n",
       " '70990',\n",
       " '73336',\n",
       " '67194',\n",
       " '20470',\n",
       " '27389',\n",
       " '19880',\n",
       " '49821',\n",
       " '21618',\n",
       " '14846',\n",
       " '49882',\n",
       " '3340',\n",
       " '8465',\n",
       " '49404',\n",
       " '55583',\n",
       " '43709',\n",
       " '79858',\n",
       " '39123',\n",
       " '80124',\n",
       " '10986',\n",
       " '18229',\n",
       " '32517',\n",
       " '72776',\n",
       " '82147',\n",
       " '28279',\n",
       " '7778',\n",
       " '66705',\n",
       " '8655',\n",
       " '44240',\n",
       " '69427',\n",
       " '63567',\n",
       " '64014',\n",
       " '44992',\n",
       " '65910',\n",
       " '14175',\n",
       " '45831',\n",
       " '45280',\n",
       " '64409',\n",
       " '74929',\n",
       " '59714',\n",
       " '14120',\n",
       " '65951',\n",
       " '32496',\n",
       " '65789',\n",
       " '29802',\n",
       " '36186',\n",
       " '79126',\n",
       " '15513',\n",
       " '79369',\n",
       " '25919',\n",
       " '53801',\n",
       " '64957',\n",
       " '18475',\n",
       " '65565',\n",
       " '34508',\n",
       " '58351',\n",
       " '78657',\n",
       " '16109',\n",
       " '50826',\n",
       " '35762',\n",
       " '3298',\n",
       " '1140',\n",
       " '79974',\n",
       " '80415',\n",
       " '27694',\n",
       " '21350',\n",
       " '58401',\n",
       " '47906',\n",
       " '50767',\n",
       " '80576',\n",
       " '67660',\n",
       " '81281',\n",
       " '21904',\n",
       " '40556',\n",
       " '46047',\n",
       " '22586',\n",
       " '69918',\n",
       " '7960',\n",
       " '8757',\n",
       " '54811',\n",
       " '36589',\n",
       " '9022',\n",
       " '62570',\n",
       " '49703',\n",
       " '11783',\n",
       " '32765',\n",
       " '29432',\n",
       " '10777',\n",
       " '34592',\n",
       " '17076',\n",
       " '4416',\n",
       " '14683',\n",
       " '22891',\n",
       " '16683',\n",
       " '2039',\n",
       " '23140',\n",
       " '47389',\n",
       " '36739',\n",
       " '77140',\n",
       " '36471',\n",
       " '80709',\n",
       " '76661',\n",
       " '47819',\n",
       " '55023',\n",
       " '27342',\n",
       " '68363',\n",
       " '46192',\n",
       " '63171',\n",
       " '61299',\n",
       " '82626',\n",
       " '61600',\n",
       " '27511',\n",
       " '57339',\n",
       " '3557',\n",
       " '10813',\n",
       " '56714',\n",
       " '1531',\n",
       " '78729',\n",
       " '21531',\n",
       " '27978',\n",
       " '40199',\n",
       " '15717',\n",
       " '13763',\n",
       " '67860',\n",
       " '54978',\n",
       " '10390',\n",
       " '80379',\n",
       " '26471',\n",
       " '71377',\n",
       " '35334',\n",
       " '78483',\n",
       " '65117',\n",
       " '82778',\n",
       " '22271',\n",
       " '59423',\n",
       " '56383',\n",
       " '62995',\n",
       " '80358',\n",
       " '66219',\n",
       " '81341',\n",
       " '7189',\n",
       " '36133',\n",
       " '6100',\n",
       " '49955',\n",
       " '48394',\n",
       " '81090',\n",
       " '78299',\n",
       " '45183',\n",
       " '21681',\n",
       " '59799',\n",
       " '39267',\n",
       " '72202',\n",
       " '22035',\n",
       " '63182',\n",
       " '51442',\n",
       " '79400',\n",
       " '11864',\n",
       " '42986',\n",
       " '44877',\n",
       " '3447',\n",
       " '41740',\n",
       " '12779',\n",
       " '12026',\n",
       " '16545',\n",
       " '53640',\n",
       " '40561',\n",
       " '78548',\n",
       " '5286',\n",
       " '57741',\n",
       " '14389',\n",
       " '49793',\n",
       " '46949',\n",
       " '31179',\n",
       " '37878',\n",
       " '73510',\n",
       " '32191',\n",
       " '53674',\n",
       " '72464',\n",
       " '39443',\n",
       " '28767',\n",
       " '26023',\n",
       " '46388',\n",
       " '53990',\n",
       " '45435',\n",
       " '79625',\n",
       " '13813',\n",
       " '8128',\n",
       " '58163',\n",
       " '22677',\n",
       " '39463',\n",
       " '67854',\n",
       " '58335',\n",
       " '76070',\n",
       " '38',\n",
       " '18490',\n",
       " '16590',\n",
       " '47276',\n",
       " '76105',\n",
       " '48059',\n",
       " '76914',\n",
       " '58665',\n",
       " '13621',\n",
       " '67110',\n",
       " '19816',\n",
       " '30696',\n",
       " '51019',\n",
       " '73666',\n",
       " '11460',\n",
       " '12716',\n",
       " '6028',\n",
       " '22152',\n",
       " '44457',\n",
       " '10870',\n",
       " '28089',\n",
       " '57673',\n",
       " '60163',\n",
       " '24594',\n",
       " '21473',\n",
       " '31819',\n",
       " '69412',\n",
       " '82898',\n",
       " '68926',\n",
       " '25746',\n",
       " '48083',\n",
       " '48969',\n",
       " '55279',\n",
       " '59737',\n",
       " '18542',\n",
       " '51679',\n",
       " '36272',\n",
       " '26076',\n",
       " '57342',\n",
       " '1982',\n",
       " '82103',\n",
       " '48542',\n",
       " '43238',\n",
       " '63237',\n",
       " '30611',\n",
       " '81976',\n",
       " '3241',\n",
       " '33286',\n",
       " '55051',\n",
       " '4898',\n",
       " '45386',\n",
       " '60333',\n",
       " '66289',\n",
       " '23098',\n",
       " '70515',\n",
       " '19567',\n",
       " '33798',\n",
       " '31456',\n",
       " '64522',\n",
       " '46715',\n",
       " '80812',\n",
       " '57275',\n",
       " '65066',\n",
       " '44318',\n",
       " '50938',\n",
       " '77455',\n",
       " '32501',\n",
       " '54304',\n",
       " '7350',\n",
       " '12330',\n",
       " '24541',\n",
       " '40074',\n",
       " '73251',\n",
       " '32068',\n",
       " '75368',\n",
       " '14897',\n",
       " '54932',\n",
       " '46149',\n",
       " '56002',\n",
       " '57703',\n",
       " '26802',\n",
       " '5595',\n",
       " '21569',\n",
       " '35243',\n",
       " '52264',\n",
       " '40660',\n",
       " '51355',\n",
       " '43645',\n",
       " '40680',\n",
       " '25472',\n",
       " '47456',\n",
       " '11371',\n",
       " '72777',\n",
       " '50952',\n",
       " '78950',\n",
       " '34921',\n",
       " '22089',\n",
       " '75192',\n",
       " '50011',\n",
       " '25959',\n",
       " '18866',\n",
       " '80508',\n",
       " '1606',\n",
       " '54225',\n",
       " '73564',\n",
       " '9330',\n",
       " '68469',\n",
       " '52171',\n",
       " '21897',\n",
       " '46952',\n",
       " '32268',\n",
       " '34368',\n",
       " '70395',\n",
       " '26597',\n",
       " '51546',\n",
       " '9599',\n",
       " '27281',\n",
       " '6541',\n",
       " '79282',\n",
       " '59295',\n",
       " '78746',\n",
       " '77097',\n",
       " '38545',\n",
       " '70194',\n",
       " '78392',\n",
       " '12622',\n",
       " '13697',\n",
       " '75570',\n",
       " '32015',\n",
       " '26893',\n",
       " '49277',\n",
       " '35370',\n",
       " '66327',\n",
       " '33733',\n",
       " '56695',\n",
       " '15444',\n",
       " '28953',\n",
       " '79764',\n",
       " '11422',\n",
       " '77809',\n",
       " '29961',\n",
       " '23873',\n",
       " '4584',\n",
       " '31186',\n",
       " '41784',\n",
       " '35209',\n",
       " '47873',\n",
       " '49581',\n",
       " '53379',\n",
       " '23338',\n",
       " '38851',\n",
       " '74677',\n",
       " '12769',\n",
       " '23150',\n",
       " '23041',\n",
       " '67056',\n",
       " '39826',\n",
       " '25479',\n",
       " '59040',\n",
       " '7936',\n",
       " '69122',\n",
       " '18157',\n",
       " '54294',\n",
       " '67027',\n",
       " '60230',\n",
       " '33326',\n",
       " '57639',\n",
       " '11629',\n",
       " '77524',\n",
       " '6767',\n",
       " '78175',\n",
       " '42913',\n",
       " '41584',\n",
       " '53552',\n",
       " '26977',\n",
       " '10585',\n",
       " '56412',\n",
       " '49117',\n",
       " '61151',\n",
       " '13890',\n",
       " '74079',\n",
       " '67785',\n",
       " '22484',\n",
       " '69411',\n",
       " '20549',\n",
       " '22452',\n",
       " '13743',\n",
       " '57668',\n",
       " '73562',\n",
       " '21539',\n",
       " '42608',\n",
       " '69167',\n",
       " '53133',\n",
       " '20764',\n",
       " '34414',\n",
       " '4177',\n",
       " '66798',\n",
       " '64905',\n",
       " '54277',\n",
       " '58059',\n",
       " '1801',\n",
       " '43965',\n",
       " '26470',\n",
       " '77508',\n",
       " '3324',\n",
       " '10060',\n",
       " '35893',\n",
       " '32524',\n",
       " '21',\n",
       " '82786',\n",
       " '78898',\n",
       " '41446',\n",
       " '46227',\n",
       " '37075',\n",
       " '42201',\n",
       " '18993',\n",
       " '2509',\n",
       " '74973',\n",
       " '24792',\n",
       " '51988',\n",
       " '68630',\n",
       " '69715',\n",
       " '21401',\n",
       " '29631',\n",
       " '71078',\n",
       " '51438',\n",
       " '36281',\n",
       " '15511',\n",
       " '2365',\n",
       " '17892',\n",
       " '18934',\n",
       " '60436',\n",
       " '75099',\n",
       " '73089',\n",
       " '79214',\n",
       " '38210',\n",
       " '73865',\n",
       " '11996',\n",
       " '1815',\n",
       " '42130',\n",
       " '45214',\n",
       " '48893',\n",
       " '19980',\n",
       " '29793',\n",
       " '43000',\n",
       " '7890',\n",
       " '28634',\n",
       " '182',\n",
       " '34669',\n",
       " '62390',\n",
       " '21869',\n",
       " '4375',\n",
       " '45639',\n",
       " '8072',\n",
       " '79434',\n",
       " '77818',\n",
       " '67621',\n",
       " '23657',\n",
       " '42128',\n",
       " '42682',\n",
       " '70313',\n",
       " '78123',\n",
       " '42077',\n",
       " '74975',\n",
       " ...]"
      ]
     },
     "execution_count": 179,
     "metadata": {},
     "output_type": "execute_result"
    }
   ],
   "source": [
    "import re\n",
    "image_num = os.listdir(test_path)\n",
    "#image_num.replace('.jpg', '')\n",
    "image_num = [c.replace('.jpg', '') for c in image_num ]\n",
    "image_num\n",
    "  "
   ]
  },
  {
   "cell_type": "code",
   "execution_count": null,
   "metadata": {
    "id": "Kh2ceuM_sLPe"
   },
   "outputs": [],
   "source": [
    "final = np.argmax(classes,axis=1)\n",
    "final = np.vstack(final)\n",
    "#b = range(1, 27661)\n",
    "final = np.column_stack([image_num, final])"
   ]
  },
  {
   "cell_type": "code",
   "execution_count": null,
   "metadata": {
    "colab": {
     "base_uri": "https://localhost:8080/"
    },
    "executionInfo": {
     "elapsed": 357,
     "status": "ok",
     "timestamp": 1638480976495,
     "user": {
      "displayName": "Артур Смирнов",
      "photoUrl": "https://lh3.googleusercontent.com/a-/AOh14Gg2gxK9MeayOvsZ1DA0s0-YrCW0niN5rvWapE1QNw=s64",
      "userId": "11940610574837256558"
     },
     "user_tz": -180
    },
    "id": "LpvV8v5UtU46",
    "outputId": "237c4d78-ee86-4079-b25d-9761a3f6d701"
   },
   "outputs": [
    {
     "data": {
      "text/plain": [
       "27660"
      ]
     },
     "execution_count": 182,
     "metadata": {},
     "output_type": "execute_result"
    }
   ],
   "source": [
    "len(final)"
   ]
  },
  {
   "cell_type": "code",
   "execution_count": null,
   "metadata": {
    "colab": {
     "base_uri": "https://localhost:8080/"
    },
    "executionInfo": {
     "elapsed": 517,
     "status": "ok",
     "timestamp": 1638477825033,
     "user": {
      "displayName": "Артур Смирнов",
      "photoUrl": "https://lh3.googleusercontent.com/a-/AOh14Gg2gxK9MeayOvsZ1DA0s0-YrCW0niN5rvWapE1QNw=s64",
      "userId": "11940610574837256558"
     },
     "user_tz": -180
    },
    "id": "FNDwTitm2_oh",
    "outputId": "c568000b-79c1-4731-e834-9810ffa59915"
   },
   "outputs": [
    {
     "data": {
      "text/plain": [
       "0"
      ]
     },
     "execution_count": 105,
     "metadata": {},
     "output_type": "execute_result"
    }
   ],
   "source": []
  },
  {
   "cell_type": "code",
   "execution_count": null,
   "metadata": {
    "colab": {
     "base_uri": "https://localhost:8080/",
     "height": 328
    },
    "executionInfo": {
     "elapsed": 704,
     "status": "error",
     "timestamp": 1638477525597,
     "user": {
      "displayName": "Артур Смирнов",
      "photoUrl": "https://lh3.googleusercontent.com/a-/AOh14Gg2gxK9MeayOvsZ1DA0s0-YrCW0niN5rvWapE1QNw=s64",
      "userId": "11940610574837256558"
     },
     "user_tz": -180
    },
    "id": "kEmvo1Kzrync",
    "outputId": "f42539e5-b9b7-4bfe-9e7d-ec668c3af41e"
   },
   "outputs": [
    {
     "ename": "TypeError",
     "evalue": "ignored",
     "output_type": "error",
     "traceback": [
      "\u001b[0;31m---------------------------------------------------------------------------\u001b[0m",
      "\u001b[0;31mTypeError\u001b[0m                                 Traceback (most recent call last)",
      "\u001b[0;32m<ipython-input-99-dc69389d3ab5>\u001b[0m in \u001b[0;36m<module>\u001b[0;34m()\u001b[0m\n\u001b[1;32m      1\u001b[0m \u001b[0;32mfrom\u001b[0m \u001b[0mcollections\u001b[0m \u001b[0;32mimport\u001b[0m \u001b[0mCounter\u001b[0m\u001b[0;34m\u001b[0m\u001b[0;34m\u001b[0m\u001b[0m\n\u001b[0;32m----> 2\u001b[0;31m \u001b[0mCounter\u001b[0m\u001b[0;34m(\u001b[0m\u001b[0mfinal\u001b[0m\u001b[0;34m)\u001b[0m\u001b[0;34m\u001b[0m\u001b[0;34m\u001b[0m\u001b[0m\n\u001b[0m",
      "\u001b[0;32m/usr/lib/python3.7/collections/__init__.py\u001b[0m in \u001b[0;36m__init__\u001b[0;34m(*args, **kwds)\u001b[0m\n\u001b[1;32m    566\u001b[0m             \u001b[0;32mraise\u001b[0m \u001b[0mTypeError\u001b[0m\u001b[0;34m(\u001b[0m\u001b[0;34m'expected at most 1 arguments, got %d'\u001b[0m \u001b[0;34m%\u001b[0m \u001b[0mlen\u001b[0m\u001b[0;34m(\u001b[0m\u001b[0margs\u001b[0m\u001b[0;34m)\u001b[0m\u001b[0;34m)\u001b[0m\u001b[0;34m\u001b[0m\u001b[0;34m\u001b[0m\u001b[0m\n\u001b[1;32m    567\u001b[0m         \u001b[0msuper\u001b[0m\u001b[0;34m(\u001b[0m\u001b[0mCounter\u001b[0m\u001b[0;34m,\u001b[0m \u001b[0mself\u001b[0m\u001b[0;34m)\u001b[0m\u001b[0;34m.\u001b[0m\u001b[0m__init__\u001b[0m\u001b[0;34m(\u001b[0m\u001b[0;34m)\u001b[0m\u001b[0;34m\u001b[0m\u001b[0;34m\u001b[0m\u001b[0m\n\u001b[0;32m--> 568\u001b[0;31m         \u001b[0mself\u001b[0m\u001b[0;34m.\u001b[0m\u001b[0mupdate\u001b[0m\u001b[0;34m(\u001b[0m\u001b[0;34m*\u001b[0m\u001b[0margs\u001b[0m\u001b[0;34m,\u001b[0m \u001b[0;34m**\u001b[0m\u001b[0mkwds\u001b[0m\u001b[0;34m)\u001b[0m\u001b[0;34m\u001b[0m\u001b[0;34m\u001b[0m\u001b[0m\n\u001b[0m\u001b[1;32m    569\u001b[0m \u001b[0;34m\u001b[0m\u001b[0m\n\u001b[1;32m    570\u001b[0m     \u001b[0;32mdef\u001b[0m \u001b[0m__missing__\u001b[0m\u001b[0;34m(\u001b[0m\u001b[0mself\u001b[0m\u001b[0;34m,\u001b[0m \u001b[0mkey\u001b[0m\u001b[0;34m)\u001b[0m\u001b[0;34m:\u001b[0m\u001b[0;34m\u001b[0m\u001b[0;34m\u001b[0m\u001b[0m\n",
      "\u001b[0;32m/usr/lib/python3.7/collections/__init__.py\u001b[0m in \u001b[0;36mupdate\u001b[0;34m(*args, **kwds)\u001b[0m\n\u001b[1;32m    653\u001b[0m                     \u001b[0msuper\u001b[0m\u001b[0;34m(\u001b[0m\u001b[0mCounter\u001b[0m\u001b[0;34m,\u001b[0m \u001b[0mself\u001b[0m\u001b[0;34m)\u001b[0m\u001b[0;34m.\u001b[0m\u001b[0mupdate\u001b[0m\u001b[0;34m(\u001b[0m\u001b[0miterable\u001b[0m\u001b[0;34m)\u001b[0m \u001b[0;31m# fast path when counter is empty\u001b[0m\u001b[0;34m\u001b[0m\u001b[0;34m\u001b[0m\u001b[0m\n\u001b[1;32m    654\u001b[0m             \u001b[0;32melse\u001b[0m\u001b[0;34m:\u001b[0m\u001b[0;34m\u001b[0m\u001b[0;34m\u001b[0m\u001b[0m\n\u001b[0;32m--> 655\u001b[0;31m                 \u001b[0m_count_elements\u001b[0m\u001b[0;34m(\u001b[0m\u001b[0mself\u001b[0m\u001b[0;34m,\u001b[0m \u001b[0miterable\u001b[0m\u001b[0;34m)\u001b[0m\u001b[0;34m\u001b[0m\u001b[0;34m\u001b[0m\u001b[0m\n\u001b[0m\u001b[1;32m    656\u001b[0m         \u001b[0;32mif\u001b[0m \u001b[0mkwds\u001b[0m\u001b[0;34m:\u001b[0m\u001b[0;34m\u001b[0m\u001b[0;34m\u001b[0m\u001b[0m\n\u001b[1;32m    657\u001b[0m             \u001b[0mself\u001b[0m\u001b[0;34m.\u001b[0m\u001b[0mupdate\u001b[0m\u001b[0;34m(\u001b[0m\u001b[0mkwds\u001b[0m\u001b[0;34m)\u001b[0m\u001b[0;34m\u001b[0m\u001b[0;34m\u001b[0m\u001b[0m\n",
      "\u001b[0;31mTypeError\u001b[0m: unhashable type: 'numpy.ndarray'"
     ]
    }
   ],
   "source": [
    "from collections import Counter\n",
    "Counter(final)"
   ]
  },
  {
   "cell_type": "code",
   "execution_count": null,
   "metadata": {
    "id": "iyD4CKu_wWjm"
   },
   "outputs": [],
   "source": [
    "names = ['image_number', 'prob_outdoor' ]"
   ]
  },
  {
   "cell_type": "code",
   "execution_count": null,
   "metadata": {
    "colab": {
     "base_uri": "https://localhost:8080/",
     "height": 206
    },
    "executionInfo": {
     "elapsed": 670,
     "status": "ok",
     "timestamp": 1638480982372,
     "user": {
      "displayName": "Артур Смирнов",
      "photoUrl": "https://lh3.googleusercontent.com/a-/AOh14Gg2gxK9MeayOvsZ1DA0s0-YrCW0niN5rvWapE1QNw=s64",
      "userId": "11940610574837256558"
     },
     "user_tz": -180
    },
    "id": "-tc3B7LlxoGp",
    "outputId": "071a4545-2852-4c08-9bb2-09b51dbc663b"
   },
   "outputs": [
    {
     "data": {
      "text/html": [
       "<div>\n",
       "<style scoped>\n",
       "    .dataframe tbody tr th:only-of-type {\n",
       "        vertical-align: middle;\n",
       "    }\n",
       "\n",
       "    .dataframe tbody tr th {\n",
       "        vertical-align: top;\n",
       "    }\n",
       "\n",
       "    .dataframe thead th {\n",
       "        text-align: right;\n",
       "    }\n",
       "</style>\n",
       "<table border=\"1\" class=\"dataframe\">\n",
       "  <thead>\n",
       "    <tr style=\"text-align: right;\">\n",
       "      <th></th>\n",
       "      <th>0</th>\n",
       "      <th>1</th>\n",
       "    </tr>\n",
       "  </thead>\n",
       "  <tbody>\n",
       "    <tr>\n",
       "      <th>0</th>\n",
       "      <td>62331</td>\n",
       "      <td>0</td>\n",
       "    </tr>\n",
       "    <tr>\n",
       "      <th>1</th>\n",
       "      <td>23227</td>\n",
       "      <td>0</td>\n",
       "    </tr>\n",
       "    <tr>\n",
       "      <th>2</th>\n",
       "      <td>81917</td>\n",
       "      <td>0</td>\n",
       "    </tr>\n",
       "    <tr>\n",
       "      <th>3</th>\n",
       "      <td>27905</td>\n",
       "      <td>1</td>\n",
       "    </tr>\n",
       "    <tr>\n",
       "      <th>4</th>\n",
       "      <td>35476</td>\n",
       "      <td>1</td>\n",
       "    </tr>\n",
       "  </tbody>\n",
       "</table>\n",
       "</div>"
      ],
      "text/plain": [
       "       0  1\n",
       "0  62331  0\n",
       "1  23227  0\n",
       "2  81917  0\n",
       "3  27905  1\n",
       "4  35476  1"
      ]
     },
     "execution_count": 183,
     "metadata": {},
     "output_type": "execute_result"
    }
   ],
   "source": [
    "df = pd.DataFrame(final)\n",
    "\n",
    "df.to_csv('/content/txt.csv', index = False, header=['image_number', 'prob_outdoor'])\n",
    "df.head()\n"
   ]
  },
  {
   "cell_type": "code",
   "execution_count": null,
   "metadata": {
    "colab": {
     "base_uri": "https://localhost:8080/",
     "height": 362
    },
    "executionInfo": {
     "elapsed": 343,
     "status": "ok",
     "timestamp": 1638480984764,
     "user": {
      "displayName": "Артур Смирнов",
      "photoUrl": "https://lh3.googleusercontent.com/a-/AOh14Gg2gxK9MeayOvsZ1DA0s0-YrCW0niN5rvWapE1QNw=s64",
      "userId": "11940610574837256558"
     },
     "user_tz": -180
    },
    "id": "URh4PL3B9ONw",
    "outputId": "9fd87f77-9d90-4d17-8e5c-96d66480547e"
   },
   "outputs": [
    {
     "data": {
      "text/html": [
       "<div>\n",
       "<style scoped>\n",
       "    .dataframe tbody tr th:only-of-type {\n",
       "        vertical-align: middle;\n",
       "    }\n",
       "\n",
       "    .dataframe tbody tr th {\n",
       "        vertical-align: top;\n",
       "    }\n",
       "\n",
       "    .dataframe thead th {\n",
       "        text-align: right;\n",
       "    }\n",
       "</style>\n",
       "<table border=\"1\" class=\"dataframe\">\n",
       "  <thead>\n",
       "    <tr style=\"text-align: right;\">\n",
       "      <th></th>\n",
       "      <th>image_number</th>\n",
       "      <th>prob_outdoor</th>\n",
       "    </tr>\n",
       "  </thead>\n",
       "  <tbody>\n",
       "    <tr>\n",
       "      <th>0</th>\n",
       "      <td>62331</td>\n",
       "      <td>0</td>\n",
       "    </tr>\n",
       "    <tr>\n",
       "      <th>1</th>\n",
       "      <td>23227</td>\n",
       "      <td>0</td>\n",
       "    </tr>\n",
       "    <tr>\n",
       "      <th>2</th>\n",
       "      <td>81917</td>\n",
       "      <td>0</td>\n",
       "    </tr>\n",
       "    <tr>\n",
       "      <th>3</th>\n",
       "      <td>27905</td>\n",
       "      <td>1</td>\n",
       "    </tr>\n",
       "    <tr>\n",
       "      <th>4</th>\n",
       "      <td>35476</td>\n",
       "      <td>1</td>\n",
       "    </tr>\n",
       "    <tr>\n",
       "      <th>5</th>\n",
       "      <td>4871</td>\n",
       "      <td>1</td>\n",
       "    </tr>\n",
       "    <tr>\n",
       "      <th>6</th>\n",
       "      <td>6022</td>\n",
       "      <td>0</td>\n",
       "    </tr>\n",
       "    <tr>\n",
       "      <th>7</th>\n",
       "      <td>30915</td>\n",
       "      <td>1</td>\n",
       "    </tr>\n",
       "    <tr>\n",
       "      <th>8</th>\n",
       "      <td>15340</td>\n",
       "      <td>1</td>\n",
       "    </tr>\n",
       "    <tr>\n",
       "      <th>9</th>\n",
       "      <td>43163</td>\n",
       "      <td>1</td>\n",
       "    </tr>\n",
       "  </tbody>\n",
       "</table>\n",
       "</div>"
      ],
      "text/plain": [
       "   image_number  prob_outdoor\n",
       "0         62331             0\n",
       "1         23227             0\n",
       "2         81917             0\n",
       "3         27905             1\n",
       "4         35476             1\n",
       "5          4871             1\n",
       "6          6022             0\n",
       "7         30915             1\n",
       "8         15340             1\n",
       "9         43163             1"
      ]
     },
     "execution_count": 184,
     "metadata": {},
     "output_type": "execute_result"
    }
   ],
   "source": [
    "df = pd.read_csv('txt.csv')\n",
    "df.head(10)"
   ]
  },
  {
   "cell_type": "markdown",
   "metadata": {
    "id": "kn36TGIhyLZz"
   },
   "source": [
    "# Итог\n",
    "Предикт составил 0,93 с обычной sequentional \n"
   ]
  },
  {
   "cell_type": "code",
   "execution_count": null,
   "metadata": {
    "id": "ZS9uIC5RFRF_"
   },
   "outputs": [],
   "source": []
  },
  {
   "cell_type": "code",
   "execution_count": null,
   "metadata": {
    "id": "Bf7As_f4zOsl"
   },
   "outputs": [],
   "source": []
  }
 ],
 "metadata": {
  "colab": {
   "authorship_tag": "ABX9TyPlkkHEAr1MJP40Ox0Q2sgf",
   "collapsed_sections": [],
   "mount_file_id": "1rL_8UPQh9hj1GUc2NoInDI2Nr_e9_qAF",
   "name": "Control2.ipynb",
   "provenance": []
  },
  "kernelspec": {
   "display_name": "Python 3 (ipykernel)",
   "language": "python",
   "name": "python3"
  },
  "language_info": {
   "codemirror_mode": {
    "name": "ipython",
    "version": 3
   },
   "file_extension": ".py",
   "mimetype": "text/x-python",
   "name": "python",
   "nbconvert_exporter": "python",
   "pygments_lexer": "ipython3",
   "version": "3.9.12"
  },
  "widgets": {
   "application/vnd.jupyter.widget-state+json": {
    "0fb6ae6087d446ddbddb3447b5633fb1": {
     "model_module": "@jupyter-widgets/base",
     "model_module_version": "1.2.0",
     "model_name": "LayoutModel",
     "state": {
      "_model_module": "@jupyter-widgets/base",
      "_model_module_version": "1.2.0",
      "_model_name": "LayoutModel",
      "_view_count": null,
      "_view_module": "@jupyter-widgets/base",
      "_view_module_version": "1.2.0",
      "_view_name": "LayoutView",
      "align_content": null,
      "align_items": null,
      "align_self": null,
      "border": null,
      "bottom": null,
      "display": null,
      "flex": null,
      "flex_flow": null,
      "grid_area": null,
      "grid_auto_columns": null,
      "grid_auto_flow": null,
      "grid_auto_rows": null,
      "grid_column": null,
      "grid_gap": null,
      "grid_row": null,
      "grid_template_areas": null,
      "grid_template_columns": null,
      "grid_template_rows": null,
      "height": null,
      "justify_content": null,
      "justify_items": null,
      "left": null,
      "margin": null,
      "max_height": null,
      "max_width": null,
      "min_height": null,
      "min_width": null,
      "object_fit": null,
      "object_position": null,
      "order": null,
      "overflow": null,
      "overflow_x": null,
      "overflow_y": null,
      "padding": null,
      "right": null,
      "top": null,
      "visibility": null,
      "width": null
     }
    },
    "1003e5c3d98d4854bb239c21be6f2904": {
     "model_module": "@jupyter-widgets/base",
     "model_module_version": "1.2.0",
     "model_name": "LayoutModel",
     "state": {
      "_model_module": "@jupyter-widgets/base",
      "_model_module_version": "1.2.0",
      "_model_name": "LayoutModel",
      "_view_count": null,
      "_view_module": "@jupyter-widgets/base",
      "_view_module_version": "1.2.0",
      "_view_name": "LayoutView",
      "align_content": null,
      "align_items": null,
      "align_self": null,
      "border": null,
      "bottom": null,
      "display": null,
      "flex": null,
      "flex_flow": null,
      "grid_area": null,
      "grid_auto_columns": null,
      "grid_auto_flow": null,
      "grid_auto_rows": null,
      "grid_column": null,
      "grid_gap": null,
      "grid_row": null,
      "grid_template_areas": null,
      "grid_template_columns": null,
      "grid_template_rows": null,
      "height": null,
      "justify_content": null,
      "justify_items": null,
      "left": null,
      "margin": null,
      "max_height": null,
      "max_width": null,
      "min_height": null,
      "min_width": null,
      "object_fit": null,
      "object_position": null,
      "order": null,
      "overflow": null,
      "overflow_x": null,
      "overflow_y": null,
      "padding": null,
      "right": null,
      "top": null,
      "visibility": null,
      "width": null
     }
    },
    "171c8e1e804a4d998577350395b390a7": {
     "model_module": "@jupyter-widgets/base",
     "model_module_version": "1.2.0",
     "model_name": "LayoutModel",
     "state": {
      "_model_module": "@jupyter-widgets/base",
      "_model_module_version": "1.2.0",
      "_model_name": "LayoutModel",
      "_view_count": null,
      "_view_module": "@jupyter-widgets/base",
      "_view_module_version": "1.2.0",
      "_view_name": "LayoutView",
      "align_content": null,
      "align_items": null,
      "align_self": null,
      "border": null,
      "bottom": null,
      "display": null,
      "flex": null,
      "flex_flow": null,
      "grid_area": null,
      "grid_auto_columns": null,
      "grid_auto_flow": null,
      "grid_auto_rows": null,
      "grid_column": null,
      "grid_gap": null,
      "grid_row": null,
      "grid_template_areas": null,
      "grid_template_columns": null,
      "grid_template_rows": null,
      "height": null,
      "justify_content": null,
      "justify_items": null,
      "left": null,
      "margin": null,
      "max_height": null,
      "max_width": null,
      "min_height": null,
      "min_width": null,
      "object_fit": null,
      "object_position": null,
      "order": null,
      "overflow": null,
      "overflow_x": null,
      "overflow_y": null,
      "padding": null,
      "right": null,
      "top": null,
      "visibility": null,
      "width": null
     }
    },
    "29920d4952094a18aca39c6e0e110d98": {
     "model_module": "@jupyter-widgets/controls",
     "model_module_version": "1.5.0",
     "model_name": "FloatProgressModel",
     "state": {
      "_dom_classes": [],
      "_model_module": "@jupyter-widgets/controls",
      "_model_module_version": "1.5.0",
      "_model_name": "FloatProgressModel",
      "_view_count": null,
      "_view_module": "@jupyter-widgets/controls",
      "_view_module_version": "1.5.0",
      "_view_name": "ProgressView",
      "bar_style": "success",
      "description": "",
      "description_tooltip": null,
      "layout": "IPY_MODEL_0fb6ae6087d446ddbddb3447b5633fb1",
      "max": 55322,
      "min": 0,
      "orientation": "horizontal",
      "style": "IPY_MODEL_4298b6b6f290454c9a9ca146a64ec99d",
      "value": 55322
     }
    },
    "4298b6b6f290454c9a9ca146a64ec99d": {
     "model_module": "@jupyter-widgets/controls",
     "model_module_version": "1.5.0",
     "model_name": "ProgressStyleModel",
     "state": {
      "_model_module": "@jupyter-widgets/controls",
      "_model_module_version": "1.5.0",
      "_model_name": "ProgressStyleModel",
      "_view_count": null,
      "_view_module": "@jupyter-widgets/base",
      "_view_module_version": "1.2.0",
      "_view_name": "StyleView",
      "bar_color": null,
      "description_width": ""
     }
    },
    "450b968f3833456e9d390be51cc12b37": {
     "model_module": "@jupyter-widgets/base",
     "model_module_version": "1.2.0",
     "model_name": "LayoutModel",
     "state": {
      "_model_module": "@jupyter-widgets/base",
      "_model_module_version": "1.2.0",
      "_model_name": "LayoutModel",
      "_view_count": null,
      "_view_module": "@jupyter-widgets/base",
      "_view_module_version": "1.2.0",
      "_view_name": "LayoutView",
      "align_content": null,
      "align_items": null,
      "align_self": null,
      "border": null,
      "bottom": null,
      "display": null,
      "flex": null,
      "flex_flow": null,
      "grid_area": null,
      "grid_auto_columns": null,
      "grid_auto_flow": null,
      "grid_auto_rows": null,
      "grid_column": null,
      "grid_gap": null,
      "grid_row": null,
      "grid_template_areas": null,
      "grid_template_columns": null,
      "grid_template_rows": null,
      "height": null,
      "justify_content": null,
      "justify_items": null,
      "left": null,
      "margin": null,
      "max_height": null,
      "max_width": null,
      "min_height": null,
      "min_width": null,
      "object_fit": null,
      "object_position": null,
      "order": null,
      "overflow": null,
      "overflow_x": null,
      "overflow_y": null,
      "padding": null,
      "right": null,
      "top": null,
      "visibility": null,
      "width": null
     }
    },
    "64c9f8b7e7cd4069a0aa136c6c6c8b7e": {
     "model_module": "@jupyter-widgets/base",
     "model_module_version": "1.2.0",
     "model_name": "LayoutModel",
     "state": {
      "_model_module": "@jupyter-widgets/base",
      "_model_module_version": "1.2.0",
      "_model_name": "LayoutModel",
      "_view_count": null,
      "_view_module": "@jupyter-widgets/base",
      "_view_module_version": "1.2.0",
      "_view_name": "LayoutView",
      "align_content": null,
      "align_items": null,
      "align_self": null,
      "border": null,
      "bottom": null,
      "display": null,
      "flex": null,
      "flex_flow": null,
      "grid_area": null,
      "grid_auto_columns": null,
      "grid_auto_flow": null,
      "grid_auto_rows": null,
      "grid_column": null,
      "grid_gap": null,
      "grid_row": null,
      "grid_template_areas": null,
      "grid_template_columns": null,
      "grid_template_rows": null,
      "height": null,
      "justify_content": null,
      "justify_items": null,
      "left": null,
      "margin": null,
      "max_height": null,
      "max_width": null,
      "min_height": null,
      "min_width": null,
      "object_fit": null,
      "object_position": null,
      "order": null,
      "overflow": null,
      "overflow_x": null,
      "overflow_y": null,
      "padding": null,
      "right": null,
      "top": null,
      "visibility": null,
      "width": null
     }
    },
    "6813912fc20f4773acbbf0be71868c27": {
     "model_module": "@jupyter-widgets/controls",
     "model_module_version": "1.5.0",
     "model_name": "DescriptionStyleModel",
     "state": {
      "_model_module": "@jupyter-widgets/controls",
      "_model_module_version": "1.5.0",
      "_model_name": "DescriptionStyleModel",
      "_view_count": null,
      "_view_module": "@jupyter-widgets/base",
      "_view_module_version": "1.2.0",
      "_view_name": "StyleView",
      "description_width": ""
     }
    },
    "736c27ba3eb94d25854b4849971b61d4": {
     "model_module": "@jupyter-widgets/base",
     "model_module_version": "1.2.0",
     "model_name": "LayoutModel",
     "state": {
      "_model_module": "@jupyter-widgets/base",
      "_model_module_version": "1.2.0",
      "_model_name": "LayoutModel",
      "_view_count": null,
      "_view_module": "@jupyter-widgets/base",
      "_view_module_version": "1.2.0",
      "_view_name": "LayoutView",
      "align_content": null,
      "align_items": null,
      "align_self": null,
      "border": null,
      "bottom": null,
      "display": null,
      "flex": null,
      "flex_flow": null,
      "grid_area": null,
      "grid_auto_columns": null,
      "grid_auto_flow": null,
      "grid_auto_rows": null,
      "grid_column": null,
      "grid_gap": null,
      "grid_row": null,
      "grid_template_areas": null,
      "grid_template_columns": null,
      "grid_template_rows": null,
      "height": null,
      "justify_content": null,
      "justify_items": null,
      "left": null,
      "margin": null,
      "max_height": null,
      "max_width": null,
      "min_height": null,
      "min_width": null,
      "object_fit": null,
      "object_position": null,
      "order": null,
      "overflow": null,
      "overflow_x": null,
      "overflow_y": null,
      "padding": null,
      "right": null,
      "top": null,
      "visibility": null,
      "width": null
     }
    },
    "8ac3209b3f22431b83f71591436fffc5": {
     "model_module": "@jupyter-widgets/base",
     "model_module_version": "1.2.0",
     "model_name": "LayoutModel",
     "state": {
      "_model_module": "@jupyter-widgets/base",
      "_model_module_version": "1.2.0",
      "_model_name": "LayoutModel",
      "_view_count": null,
      "_view_module": "@jupyter-widgets/base",
      "_view_module_version": "1.2.0",
      "_view_name": "LayoutView",
      "align_content": null,
      "align_items": null,
      "align_self": null,
      "border": null,
      "bottom": null,
      "display": null,
      "flex": null,
      "flex_flow": null,
      "grid_area": null,
      "grid_auto_columns": null,
      "grid_auto_flow": null,
      "grid_auto_rows": null,
      "grid_column": null,
      "grid_gap": null,
      "grid_row": null,
      "grid_template_areas": null,
      "grid_template_columns": null,
      "grid_template_rows": null,
      "height": null,
      "justify_content": null,
      "justify_items": null,
      "left": null,
      "margin": null,
      "max_height": null,
      "max_width": null,
      "min_height": null,
      "min_width": null,
      "object_fit": null,
      "object_position": null,
      "order": null,
      "overflow": null,
      "overflow_x": null,
      "overflow_y": null,
      "padding": null,
      "right": null,
      "top": null,
      "visibility": null,
      "width": null
     }
    },
    "8b44c220705a431e8c0221bfe93469e4": {
     "model_module": "@jupyter-widgets/controls",
     "model_module_version": "1.5.0",
     "model_name": "FloatProgressModel",
     "state": {
      "_dom_classes": [],
      "_model_module": "@jupyter-widgets/controls",
      "_model_module_version": "1.5.0",
      "_model_name": "FloatProgressModel",
      "_view_count": null,
      "_view_module": "@jupyter-widgets/controls",
      "_view_module_version": "1.5.0",
      "_view_name": "ProgressView",
      "bar_style": "success",
      "description": "",
      "description_tooltip": null,
      "layout": "IPY_MODEL_8ac3209b3f22431b83f71591436fffc5",
      "max": 27660,
      "min": 0,
      "orientation": "horizontal",
      "style": "IPY_MODEL_9c8e7c51be14475083ba633e24fa7a11",
      "value": 27660
     }
    },
    "9c8e7c51be14475083ba633e24fa7a11": {
     "model_module": "@jupyter-widgets/controls",
     "model_module_version": "1.5.0",
     "model_name": "ProgressStyleModel",
     "state": {
      "_model_module": "@jupyter-widgets/controls",
      "_model_module_version": "1.5.0",
      "_model_name": "ProgressStyleModel",
      "_view_count": null,
      "_view_module": "@jupyter-widgets/base",
      "_view_module_version": "1.2.0",
      "_view_name": "StyleView",
      "bar_color": null,
      "description_width": ""
     }
    },
    "b0bdf4b9df6b40e0a2d50dbbcb9a197e": {
     "model_module": "@jupyter-widgets/controls",
     "model_module_version": "1.5.0",
     "model_name": "HBoxModel",
     "state": {
      "_dom_classes": [],
      "_model_module": "@jupyter-widgets/controls",
      "_model_module_version": "1.5.0",
      "_model_name": "HBoxModel",
      "_view_count": null,
      "_view_module": "@jupyter-widgets/controls",
      "_view_module_version": "1.5.0",
      "_view_name": "HBoxView",
      "box_style": "",
      "children": [
       "IPY_MODEL_dbffdbfceaac4012bc99dbb7496e2c2a",
       "IPY_MODEL_29920d4952094a18aca39c6e0e110d98",
       "IPY_MODEL_e644ebcde730463ab2a4f407fc137d00"
      ],
      "layout": "IPY_MODEL_c355c47d85044bed8158ccfe063e9193"
     }
    },
    "c355c47d85044bed8158ccfe063e9193": {
     "model_module": "@jupyter-widgets/base",
     "model_module_version": "1.2.0",
     "model_name": "LayoutModel",
     "state": {
      "_model_module": "@jupyter-widgets/base",
      "_model_module_version": "1.2.0",
      "_model_name": "LayoutModel",
      "_view_count": null,
      "_view_module": "@jupyter-widgets/base",
      "_view_module_version": "1.2.0",
      "_view_name": "LayoutView",
      "align_content": null,
      "align_items": null,
      "align_self": null,
      "border": null,
      "bottom": null,
      "display": null,
      "flex": null,
      "flex_flow": null,
      "grid_area": null,
      "grid_auto_columns": null,
      "grid_auto_flow": null,
      "grid_auto_rows": null,
      "grid_column": null,
      "grid_gap": null,
      "grid_row": null,
      "grid_template_areas": null,
      "grid_template_columns": null,
      "grid_template_rows": null,
      "height": null,
      "justify_content": null,
      "justify_items": null,
      "left": null,
      "margin": null,
      "max_height": null,
      "max_width": null,
      "min_height": null,
      "min_width": null,
      "object_fit": null,
      "object_position": null,
      "order": null,
      "overflow": null,
      "overflow_x": null,
      "overflow_y": null,
      "padding": null,
      "right": null,
      "top": null,
      "visibility": null,
      "width": null
     }
    },
    "c40babc4c6d442bab17da64c22d1b8ca": {
     "model_module": "@jupyter-widgets/controls",
     "model_module_version": "1.5.0",
     "model_name": "DescriptionStyleModel",
     "state": {
      "_model_module": "@jupyter-widgets/controls",
      "_model_module_version": "1.5.0",
      "_model_name": "DescriptionStyleModel",
      "_view_count": null,
      "_view_module": "@jupyter-widgets/base",
      "_view_module_version": "1.2.0",
      "_view_name": "StyleView",
      "description_width": ""
     }
    },
    "d0fd73dd684a49df8bcc2e4ee789129b": {
     "model_module": "@jupyter-widgets/controls",
     "model_module_version": "1.5.0",
     "model_name": "DescriptionStyleModel",
     "state": {
      "_model_module": "@jupyter-widgets/controls",
      "_model_module_version": "1.5.0",
      "_model_name": "DescriptionStyleModel",
      "_view_count": null,
      "_view_module": "@jupyter-widgets/base",
      "_view_module_version": "1.2.0",
      "_view_name": "StyleView",
      "description_width": ""
     }
    },
    "d6c6149890b7466f876819308af759bd": {
     "model_module": "@jupyter-widgets/controls",
     "model_module_version": "1.5.0",
     "model_name": "HTMLModel",
     "state": {
      "_dom_classes": [],
      "_model_module": "@jupyter-widgets/controls",
      "_model_module_version": "1.5.0",
      "_model_name": "HTMLModel",
      "_view_count": null,
      "_view_module": "@jupyter-widgets/controls",
      "_view_module_version": "1.5.0",
      "_view_name": "HTMLView",
      "description": "",
      "description_tooltip": null,
      "layout": "IPY_MODEL_736c27ba3eb94d25854b4849971b61d4",
      "placeholder": "​",
      "style": "IPY_MODEL_dd4f47df86c84df4a029035f6edce830",
      "value": "100%"
     }
    },
    "dbffdbfceaac4012bc99dbb7496e2c2a": {
     "model_module": "@jupyter-widgets/controls",
     "model_module_version": "1.5.0",
     "model_name": "HTMLModel",
     "state": {
      "_dom_classes": [],
      "_model_module": "@jupyter-widgets/controls",
      "_model_module_version": "1.5.0",
      "_model_name": "HTMLModel",
      "_view_count": null,
      "_view_module": "@jupyter-widgets/controls",
      "_view_module_version": "1.5.0",
      "_view_name": "HTMLView",
      "description": "",
      "description_tooltip": null,
      "layout": "IPY_MODEL_450b968f3833456e9d390be51cc12b37",
      "placeholder": "​",
      "style": "IPY_MODEL_6813912fc20f4773acbbf0be71868c27",
      "value": "100%"
     }
    },
    "dd4f47df86c84df4a029035f6edce830": {
     "model_module": "@jupyter-widgets/controls",
     "model_module_version": "1.5.0",
     "model_name": "DescriptionStyleModel",
     "state": {
      "_model_module": "@jupyter-widgets/controls",
      "_model_module_version": "1.5.0",
      "_model_name": "DescriptionStyleModel",
      "_view_count": null,
      "_view_module": "@jupyter-widgets/base",
      "_view_module_version": "1.2.0",
      "_view_name": "StyleView",
      "description_width": ""
     }
    },
    "df6a784694f14d7d81a5abe67a7a29ad": {
     "model_module": "@jupyter-widgets/controls",
     "model_module_version": "1.5.0",
     "model_name": "HTMLModel",
     "state": {
      "_dom_classes": [],
      "_model_module": "@jupyter-widgets/controls",
      "_model_module_version": "1.5.0",
      "_model_name": "HTMLModel",
      "_view_count": null,
      "_view_module": "@jupyter-widgets/controls",
      "_view_module_version": "1.5.0",
      "_view_name": "HTMLView",
      "description": "",
      "description_tooltip": null,
      "layout": "IPY_MODEL_171c8e1e804a4d998577350395b390a7",
      "placeholder": "​",
      "style": "IPY_MODEL_c40babc4c6d442bab17da64c22d1b8ca",
      "value": " 27660/27660 [3:25:29&lt;00:00,  2.28it/s]"
     }
    },
    "e0eb288979804b9985c35120f7829d74": {
     "model_module": "@jupyter-widgets/controls",
     "model_module_version": "1.5.0",
     "model_name": "HBoxModel",
     "state": {
      "_dom_classes": [],
      "_model_module": "@jupyter-widgets/controls",
      "_model_module_version": "1.5.0",
      "_model_name": "HBoxModel",
      "_view_count": null,
      "_view_module": "@jupyter-widgets/controls",
      "_view_module_version": "1.5.0",
      "_view_name": "HBoxView",
      "box_style": "",
      "children": [
       "IPY_MODEL_d6c6149890b7466f876819308af759bd",
       "IPY_MODEL_8b44c220705a431e8c0221bfe93469e4",
       "IPY_MODEL_df6a784694f14d7d81a5abe67a7a29ad"
      ],
      "layout": "IPY_MODEL_1003e5c3d98d4854bb239c21be6f2904"
     }
    },
    "e644ebcde730463ab2a4f407fc137d00": {
     "model_module": "@jupyter-widgets/controls",
     "model_module_version": "1.5.0",
     "model_name": "HTMLModel",
     "state": {
      "_dom_classes": [],
      "_model_module": "@jupyter-widgets/controls",
      "_model_module_version": "1.5.0",
      "_model_name": "HTMLModel",
      "_view_count": null,
      "_view_module": "@jupyter-widgets/controls",
      "_view_module_version": "1.5.0",
      "_view_name": "HTMLView",
      "description": "",
      "description_tooltip": null,
      "layout": "IPY_MODEL_64c9f8b7e7cd4069a0aa136c6c6c8b7e",
      "placeholder": "​",
      "style": "IPY_MODEL_d0fd73dd684a49df8bcc2e4ee789129b",
      "value": " 55322/55322 [02:05&lt;00:00, 445.25it/s]"
     }
    }
   }
  }
 },
 "nbformat": 4,
 "nbformat_minor": 1
}
