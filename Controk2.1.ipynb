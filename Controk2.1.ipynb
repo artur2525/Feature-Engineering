{
 "cells": [
  {
   "cell_type": "code",
   "execution_count": null,
   "metadata": {
    "colab": {
     "base_uri": "https://localhost:8080/"
    },
    "executionInfo": {
     "elapsed": 2312,
     "status": "ok",
     "timestamp": 1639174035265,
     "user": {
      "displayName": "Артур Смирнов",
      "photoUrl": "https://lh3.googleusercontent.com/a-/AOh14Gg2gxK9MeayOvsZ1DA0s0-YrCW0niN5rvWapE1QNw=s64",
      "userId": "11940610574837256558"
     },
     "user_tz": -180
    },
    "id": "jG0CCJE9RZ3J",
    "outputId": "13339fb2-b0fd-477c-a151-8432aa0e256d"
   },
   "outputs": [
    {
     "name": "stdout",
     "output_type": "stream",
     "text": [
      "Drive already mounted at /content/drive; to attempt to forcibly remount, call drive.mount(\"/content/drive\", force_remount=True).\n"
     ]
    }
   ],
   "source": [
    "import numpy as np\n",
    "import pandas as pd\n",
    "import cv2\n",
    "import os \n",
    "import PIL\n",
    "import re\n",
    "\n",
    "from google.colab import files, drive\n",
    "\n",
    "\n",
    "import zipfile\n",
    "from PIL import Image \n",
    "import glob\n",
    "from keras.preprocessing import image\n",
    "from tqdm.notebook import tqdm_notebook\n",
    "         \n",
    "\n",
    "from keras_preprocessing.image import img_to_array, load_img\n",
    "import matplotlib.pyplot as plt \n",
    "import tensorflow as tf\n",
    "from tensorflow import keras\n",
    "from tensorflow.keras import layers\n",
    "from tensorflow.keras.models import Sequential\n"
   ]
  },
  {
   "cell_type": "code",
   "execution_count": null,
   "metadata": {
    "id": "rXhZDo1oQ3oj"
   },
   "outputs": [],
   "source": [
    "from keras import Sequential, layers"
   ]
  },
  {
   "cell_type": "code",
   "execution_count": null,
   "metadata": {
    "id": "xaZnb6PiRmN-"
   },
   "outputs": [],
   "source": [
    "def repack(path):\n",
    "    fantasy_zip = zipfile.ZipFile(path)\n",
    "    fantasy_zip.extractall('')\n",
    "    fantasy_zip.close()\n",
    "\n",
    "\n",
    "def predict(img):\n",
    "    final = np.argmax(img,axis=1)\n",
    "    final = np.vstack(final)\n",
    "    final = np.column_stack([image_num, final])\n",
    "\n",
    "    df = pd.DataFrame(final)\n",
    "\n",
    "    return df.to_csv(f'{train_path - 1}/txt.csv', index = False, header=['image_number', 'prob_outdoor'])\n",
    "\n",
    "\n",
    "class KerasDS():\n",
    "  \n",
    "  def __init__(self, train_path, test_path, batch_size, img_height, img_width):\n",
    "    \n",
    "    \n",
    "    self.batch_size = batch_size\n",
    "    self.img_height = img_height\n",
    "    self.img_width = img_width\n",
    "    self.train_path = train_path\n",
    "    self.test_path = test_path\n",
    "    \n",
    "    \n",
    "    \n",
    "  def image_size(self):\n",
    "    return (self.img_height, self.img_width, 3)\n",
    "\n",
    "  def train(self): \n",
    "    \n",
    "\n",
    "    train_ds = tf.keras.utils.image_dataset_from_directory(\n",
    "    train_dir = self.train_path,\n",
    "    validation_split = 0.2,\n",
    "    subset = 'training',\n",
    "    seed = 123,\n",
    "    image_size = (self.img_height, self.img_width),\n",
    "    batch_size = batch_size\n",
    "    )  \n",
    "    \n",
    "    val_ds = tf.keras.utils.image_dataset_from_directory(\n",
    "    train_dir = self.train_pat,\n",
    "    validation_split = 0.2,\n",
    "    subset = 'validation',\n",
    "    seed = 123,\n",
    "    image_size = (self.img_height, self.img_width),\n",
    "    batch_size = batch_size\n",
    "    )\n",
    "   \n",
    "    AUTOTUNE = tf.data.AUTOTUNE\n",
    "    train_ds = train_ds.cache().shuffle(1000).prefetch(buffer_size=AUTOTUNE)\n",
    "    val_ds = val_ds.cache().prefetch(buffer_size = AUTOTUNE)\n",
    "    \n",
    "    \n",
    "      \n",
    "    AUTOTUNE = tf.data.AUTOTUNE\n",
    "    train_ds = train_ds.cache().shuffle(1000).prefetch(buffer_size=AUTOTUNE)\n",
    "    val_ds = val_ds.cache().prefetch(buffer_size = AUTOTUNE)\n",
    "\n",
    "    return train_ds, val_ds, test_path, test_path\n",
    "    \n",
    "\n",
    "\n",
    "\n",
    "  def show():\n",
    "    plt.figure(figsize = (10,10))\n",
    "    for images, labels in train_ds.take(1):\n",
    "      for i in range(9):\n",
    "        ax = plt.subplot(3,3, i + 1)\n",
    "        plt.imshow(images[i].numpy()/255)\n",
    "        plt.title(class_names[labels[i]])\n",
    "        plt.show()\n",
    "\n",
    "  def change_image(self):\n",
    "    \n",
    "    self.images = []\n",
    "    \n",
    "    for img in tqdm_notebook(os.listdir(test_path)):\n",
    "        img = os.path.join(test_path, img)\n",
    "        img = image.load_img(img, target_size=(img_width, img_height))\n",
    "        img = image.img_to_array(img)\n",
    "        img = np.expand_dims(img, axis=0)\n",
    "        images.append(img)\n",
    "    images = np.vstack(images)\n",
    "    return images\n",
    "\n",
    "  \n",
    "    \n"
   ]
  },
  {
   "cell_type": "code",
   "execution_count": null,
   "metadata": {
    "id": "yHGuYx0kjHlI"
   },
   "outputs": [],
   "source": [
    "run =  KerasDS(train_path= '/train/', test_path= '/test/', batch_size=48, img_height=28, img_width=28)"
   ]
  },
  {
   "cell_type": "code",
   "execution_count": null,
   "metadata": {
    "colab": {
     "base_uri": "https://localhost:8080/",
     "height": 234
    },
    "executionInfo": {
     "elapsed": 289,
     "status": "error",
     "timestamp": 1639174330530,
     "user": {
      "displayName": "Артур Смирнов",
      "photoUrl": "https://lh3.googleusercontent.com/a-/AOh14Gg2gxK9MeayOvsZ1DA0s0-YrCW0niN5rvWapE1QNw=s64",
      "userId": "11940610574837256558"
     },
     "user_tz": -180
    },
    "id": "gn-zzfT0Qv-_",
    "outputId": "ddd93344-2c11-4f89-9a9b-1b4948754bba"
   },
   "outputs": [
    {
     "ename": "TypeError",
     "evalue": "ignored",
     "output_type": "error",
     "traceback": [
      "\u001b[0;31m---------------------------------------------------------------------------\u001b[0m",
      "\u001b[0;31mTypeError\u001b[0m                                 Traceback (most recent call last)",
      "\u001b[0;32m<ipython-input-66-a5e5218a8177>\u001b[0m in \u001b[0;36m<module>\u001b[0;34m()\u001b[0m\n\u001b[1;32m     13\u001b[0m \u001b[0mepochs\u001b[0m \u001b[0;34m=\u001b[0m \u001b[0;36m1\u001b[0m\u001b[0;34m\u001b[0m\u001b[0;34m\u001b[0m\u001b[0m\n\u001b[1;32m     14\u001b[0m history = model.fit(\n\u001b[0;32m---> 15\u001b[0;31m     \u001b[0mKerasDS\u001b[0m\u001b[0;34m.\u001b[0m\u001b[0mtrain\u001b[0m\u001b[0;34m(\u001b[0m\u001b[0;34m)\u001b[0m\u001b[0;34m,\u001b[0m\u001b[0;34m\u001b[0m\u001b[0;34m\u001b[0m\u001b[0m\n\u001b[0m\u001b[1;32m     16\u001b[0m     \u001b[0mvalidation_data\u001b[0m \u001b[0;34m=\u001b[0m \u001b[0mval_ds\u001b[0m\u001b[0;34m,\u001b[0m\u001b[0;34m\u001b[0m\u001b[0;34m\u001b[0m\u001b[0m\n\u001b[1;32m     17\u001b[0m     \u001b[0mverbose\u001b[0m \u001b[0;34m=\u001b[0m \u001b[0;34m\"auto\"\u001b[0m\u001b[0;34m,\u001b[0m\u001b[0;34m\u001b[0m\u001b[0;34m\u001b[0m\u001b[0m\n",
      "\u001b[0;31mTypeError\u001b[0m: train() missing 1 required positional argument: 'self'"
     ]
    }
   ],
   "source": [
    "\n",
    "num_classes = 2\n",
    "model = Sequential ([\n",
    "  layers.Rescaling(1/255, input_shape=(28,28,3)),\n",
    "  layers.Dense(128, activation= 'sigmoid'),\n",
    "  layers.Dense(num_classes)\n",
    "])\n",
    "model.compile(optimizer='adam',\n",
    "        loss = tf.keras.losses.SparseCategoricalCrossentropy(from_logits=True),\n",
    "        metrics=['accuracy'])\n",
    "\n",
    "\n",
    "epochs = 1\n",
    "history = model.fit(\n",
    "    KerasDS.train(),\n",
    "    validation_data = val_ds,\n",
    "    verbose = \"auto\",\n",
    "    epochs = epochs\n",
    "     \n",
    ")\n",
    "\n",
    "classes = model.predict(final)\n",
    "predict(classes)"
   ]
  },
  {
   "cell_type": "code",
   "execution_count": null,
   "metadata": {
    "colab": {
     "base_uri": "https://localhost:8080/",
     "height": 165
    },
    "executionInfo": {
     "elapsed": 266,
     "status": "error",
     "timestamp": 1639174354334,
     "user": {
      "displayName": "Артур Смирнов",
      "photoUrl": "https://lh3.googleusercontent.com/a-/AOh14Gg2gxK9MeayOvsZ1DA0s0-YrCW0niN5rvWapE1QNw=s64",
      "userId": "11940610574837256558"
     },
     "user_tz": -180
    },
    "id": "Bzuf3b2OZ6X8",
    "outputId": "118cbd4d-ab4b-4108-c930-3eafc23dc79a"
   },
   "outputs": [
    {
     "ename": "TypeError",
     "evalue": "ignored",
     "output_type": "error",
     "traceback": [
      "\u001b[0;31m---------------------------------------------------------------------------\u001b[0m",
      "\u001b[0;31mTypeError\u001b[0m                                 Traceback (most recent call last)",
      "\u001b[0;32m<ipython-input-67-875b166e62b8>\u001b[0m in \u001b[0;36m<module>\u001b[0;34m()\u001b[0m\n\u001b[0;32m----> 1\u001b[0;31m \u001b[0mfim\u001b[0m \u001b[0;34m=\u001b[0m \u001b[0mKerasDS\u001b[0m\u001b[0;34m.\u001b[0m\u001b[0mtrain\u001b[0m\u001b[0;34m(\u001b[0m\u001b[0;34m)\u001b[0m\u001b[0;34m\u001b[0m\u001b[0;34m\u001b[0m\u001b[0m\n\u001b[0m",
      "\u001b[0;31mTypeError\u001b[0m: train() missing 1 required positional argument: 'self'"
     ]
    }
   ],
   "source": [
    "fim = KerasDS.train()"
   ]
  }
 ],
 "metadata": {
  "colab": {
   "authorship_tag": "ABX9TyMaY3WKujOjEgGbtT7TyxIY",
   "name": "Controk2.1.ipynb",
   "provenance": []
  },
  "kernelspec": {
   "display_name": "Python 3 (ipykernel)",
   "language": "python",
   "name": "python3"
  },
  "language_info": {
   "codemirror_mode": {
    "name": "ipython",
    "version": 3
   },
   "file_extension": ".py",
   "mimetype": "text/x-python",
   "name": "python",
   "nbconvert_exporter": "python",
   "pygments_lexer": "ipython3",
   "version": "3.9.12"
  }
 },
 "nbformat": 4,
 "nbformat_minor": 1
}
